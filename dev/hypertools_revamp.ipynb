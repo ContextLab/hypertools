{
 "cells": [
  {
   "cell_type": "code",
   "execution_count": 15,
   "metadata": {},
   "outputs": [],
   "source": [
    "import numpy as np\n",
    "#import modin.pandas as pd\n",
    "import pandas as pd\n",
    "from ppca import PPCA\n",
    "import six\n",
    "\n",
    "import warnings\n",
    "\n",
    "from sklearn.feature_extraction.text import CountVectorizer, TfidfVectorizer\n",
    "from sklearn.decomposition import LatentDirichletAllocation, NMF\n",
    "from sklearn.cluster import KMeans, MiniBatchKMeans, AgglomerativeClustering, Birch, FeatureAgglomeration, SpectralClustering, SpectralCoclustering, SpectralBiclustering, DBSCAN, AffinityPropagation, MeanShift\n",
    "from sklearn.mixture import GaussianMixture, BayesianGaussianMixture\n",
    "from sklearn.decomposition import PCA, FastICA, IncrementalPCA, KernelPCA, FactorAnalysis, TruncatedSVD, SparsePCA, MiniBatchSparsePCA, DictionaryLearning, MiniBatchDictionaryLearning\n",
    "from sklearn.manifold import TSNE, MDS, SpectralEmbedding, LocallyLinearEmbedding, Isomap\n",
    "from umap import UMAP\n",
    "from flair.embeddings import WordEmbeddings, CharacterEmbeddings, StackedEmbeddings, FlairEmbeddings, BertEmbeddings, ELMoEmbeddings, DocumentPoolEmbeddings\n",
    "from flair.data import Sentence\n",
    "\n",
    "import plotly.graph_objs as go\n",
    "from plotly.offline import download_plotlyjs, init_notebook_mode, plot, iplot\n",
    "\n",
    "global HYPERTOOLS_NOTEBOOK_MODE; HYPERTOOLS_NOTEBOOK_MODE = False\n",
    "\n",
    "#import plotly_express as px"
   ]
  },
  {
   "cell_type": "code",
   "execution_count": 16,
   "metadata": {},
   "outputs": [],
   "source": [
    "def hypertools_notebook_mode(toggle=None):\n",
    "    global HYPERTOOLS_NOTEBOOK_MODE\n",
    "    \n",
    "    if toggle:\n",
    "        print('Enabling inline hypertools plots')\n",
    "        HYPERTOOLS_NOTEBOOK_MODE = True\n",
    "    else:\n",
    "        print('Disabling interactive hypertools plots')\n",
    "        HYPERTOOLS_NOTEBOOK_MODE = False\n",
    "    return None"
   ]
  },
  {
   "cell_type": "code",
   "execution_count": 17,
   "metadata": {},
   "outputs": [
    {
     "name": "stdout",
     "output_type": "stream",
     "text": [
      "Enabling inline hypertools plots\n"
     ]
    }
   ],
   "source": [
    "hypertools_notebook_mode(True)"
   ]
  },
  {
   "cell_type": "code",
   "execution_count": 18,
   "metadata": {},
   "outputs": [],
   "source": [
    "import os\n",
    "os.environ['TF_CPP_MIN_LOG_LEVEL']='2'\n",
    "import tensorflow.compat.v1 as tf\n",
    "#import tensorflow as tf\n",
    "import tensorflow_hub as hub\n",
    "\n",
    "tf.disable_v2_behavior()\n",
    "tf.disable_eager_execution()"
   ]
  },
  {
   "cell_type": "code",
   "execution_count": 19,
   "metadata": {},
   "outputs": [],
   "source": [
    "from srm import SRM\n",
    "from procrustes import procrustes\n",
    "\n",
    "#working from align.py:\n",
    "# - include SRM, hyperalignment, and procrustes as options (for procrustes, align everything to the first observation)\n",
    "#   - modify these functions to return both the transformed data and also a function that will map a new set of observations into the common space\n",
    "# - format the data to ensure it's a list of dataframes\n",
    "# - carve out hyperalignment as a separate function (like SRM)\n",
    "# - use the indices to create a common set of dataframes, all with indices from the full set (union) of indices across all dataframes in the list, and all with the same number of columns (zero-padding to match the dataframe with the most columns).  compute the transformations\n",
    "#   using just the common indices (intersection).  But the transform function should work with arbitrary data, including from non-matching indices.\n",
    "#   The full align function should return a list of dataframes of the same size/shape as the inputted list, and where each dataframe has the same number of rows (at the same indices)\n",
    "#   as the corresponding dataframes in the original list, but every dataframe in the aligned list has the same number of columns.\n",
    "\n",
    "#consider: returnning a new sub-class of dataframe that includes the inverse transformation functions, allowing the data to be transformed back into the original data spaces\n",
    "#in turn, this would return a new TransformableDataFrame that could map the (original) data back into the transformed space."
   ]
  },
  {
   "cell_type": "code",
   "execution_count": 20,
   "metadata": {},
   "outputs": [],
   "source": [
    "from configparser import ConfigParser\n",
    "#from collections import defaultdict"
   ]
  },
  {
   "cell_type": "code",
   "execution_count": 115,
   "metadata": {},
   "outputs": [],
   "source": [
    "defaults = ConfigParser()\n",
    "defaults.read('defaults.ini');"
   ]
  },
  {
   "cell_type": "code",
   "execution_count": 22,
   "metadata": {},
   "outputs": [
    {
     "data": {
      "text/html": [
       "<script type=\"text/javascript\">window.PlotlyConfig = {MathJaxConfig: 'local'};</script><script type=\"text/javascript\">if (window.MathJax) {MathJax.Hub.Config({SVG: {font: \"STIX-Web\"}});}</script><script>requirejs.config({paths: { 'plotly': ['https://cdn.plot.ly/plotly-latest.min']},});if(!window._Plotly) {require(['plotly'],function(plotly) {window._Plotly=plotly;});}</script>"
      ],
      "text/vnd.plotly.v1+html": [
       "<script type=\"text/javascript\">window.PlotlyConfig = {MathJaxConfig: 'local'};</script><script type=\"text/javascript\">if (window.MathJax) {MathJax.Hub.Config({SVG: {font: \"STIX-Web\"}});}</script><script>requirejs.config({paths: { 'plotly': ['https://cdn.plot.ly/plotly-latest.min']},});if(!window._Plotly) {require(['plotly'],function(plotly) {window._Plotly=plotly;});}</script>"
      ]
     },
     "metadata": {},
     "output_type": "display_data"
    }
   ],
   "source": [
    "init_notebook_mode(connected=True)"
   ]
  },
  {
   "cell_type": "code",
   "execution_count": 23,
   "metadata": {},
   "outputs": [],
   "source": [
    "reduce_models = ['DictionaryLearning', 'FactorAnalysis', 'FastICA', 'IncrementalPCA', 'KernelPCA', 'LatentDirichletAllocation', 'MiniBatchDictionaryLearning',\n",
    " 'MiniBatchSparsePCA', 'NMF', 'PCA', 'SparseCoder', 'SparsePCA', 'TruncatedSVD', 'UMAP', 'TSNE', 'MDS', 'SpectralEmbedding', 'LocallyLinearEmbedding', 'Isomap']\n",
    "cluster_models = ['AffinityPropagation', 'AgglomerativeClustering', 'Birch', 'DBSCAN', 'FeatureAgglomeration', 'KMeans', 'MeanShift', 'MiniBatchKMeans', 'SpectralBiclustering', 'SpectralClustering', 'SpectralCoclustering', 'DBSCAN', 'AffinityPropagation', 'MeanShift']\n",
    "mixture_models = ['GaussianMixture', 'BayesianGaussianMixture', 'LatentDirichletAllocation', 'NMF']\n",
    "decomposition_models = ['LatentDirichletAllocation', 'NMF']\n",
    "text_vectorizers = ['CountVectorizer', 'TfidfVectorizer']\n",
    "interpolation_models = ['linear', 'time', 'index', 'pad', 'nearest', 'zero', 'slinear', 'quadratic', 'cubic', 'spline', 'barycentric', 'polynomial']\n",
    "text_models = ['universal_sentence_encoder', 'LatentDirichletAllocation', 'NMF']\n",
    "corpora = ['wiki', 'nips', 'sotus']\n"
   ]
  },
  {
   "cell_type": "markdown",
   "metadata": {},
   "source": [
    "### API ideas\n",
    "\n",
    "1. [x] Write a single function to format data into a list of pandas dataframes:\n",
    "    - [x] If text, should vectorize text according to default (or given) models.  Allow user to (optionally) pass in row/column labels for the text data.  Each string gets one row; a list of strings yields a len(list) by n-features dataframe\n",
    "    - [x] If numpy arrays, set indices to row count and columns to column count\n",
    "    - [x] If pandas dataframe, keep as is but turn into a list\n",
    "    - [x] If only a single matrix is given, still return a list\n",
    "    - [x] Dimensions may be mismatched\n",
    "    - [x] Missing data is left unchanged\n",
    "2. [x] Write a function to take a list of dataframes and use PPCA to fill in missing values.  Also use interpolation to fill in missing rows\n",
    "3. [x] Write a reduce function that can work in batch mode (reduce a single dataframe or a list of dataframes)\n",
    "4. [x] Write a cluster function that can work in batch mode (return cluster labels or mixture proportions for a single dataframe or a list of dataframes)\n",
    "5. Write a text-vectorizer function that wraps universal sentence encoder, LDA, NMF, etc.\n",
    "6. Write an align function that aligns all dataframes in a list into a common space\n",
    "7. Write a normalize function that z-scores the data\n",
    "8. Write a plot function that takes a list of dataframes and plots them\n",
    "    - Need a mat2colors function that colorizes data points according to group labels, cluster assignments, mixture proportions, or user-specified matrices.  Take in a colormap as an argument\n",
    "    - Need support for multicolored lines in addition to per-observation marker colors.  For 3d plots, could use streamtubes...but for 2d plots this won't work, so maybe a segment solution would be appropriate.\n",
    "    - Potentially allow for different line/marker colors\n",
    "    - Support for animations:\n",
    "      - Spin\n",
    "      - Sliding window\n",
    "      - Sliding window with tail\n",
    "      - Sliding window with head\n",
    "    - Support for multiindex dataframes (hierarchical plots with different coloring/line thickness)\n",
    "9. Write a hyper-function that takes in a \"messy\" dataset, applies formatting, PPCA, reduce, alignment, and clustering (as specified) and returns a formatted/processed dataset.\n",
    "10. Add hyper-function call to every helper function, so that all analyses can be applied from any call to any other function"
   ]
  },
  {
   "cell_type": "code",
   "execution_count": 24,
   "metadata": {},
   "outputs": [],
   "source": [
    "def is_dataframe(x):\n",
    "    return type(x).__module__ in ['pandas.core.frame', 'modin.pandas.dataframe']\n",
    "\n",
    "def is_multiindex_dataframe(x):\n",
    "    return is_dataframe(x) and (type(x.index).__module__ == 'pandas.core.indexes.multi')\n",
    "\n",
    "def is_array(x):\n",
    "    return type(x).__module__ == 'numpy'\n",
    "\n",
    "def is_empty(x):\n",
    "    return (x is None) or (len(x) == 0)\n",
    "\n",
    "def is_text(x):\n",
    "    if type(x) == list:\n",
    "        return np.all([is_text(t) for t in x])\n",
    "    return type(x) in six.string_types"
   ]
  },
  {
   "cell_type": "code",
   "execution_count": 168,
   "metadata": {},
   "outputs": [],
   "source": [
    "def get_corpus(c, encoding='utf-8'):\n",
    "    import hypertools as hyp\n",
    "    if c in corpora:\n",
    "        fname = os.path.join(eval(defaults['data']['datadir']),'corpora', f'{c}.npy')\n",
    "        if not os.path.exists(fname):\n",
    "            if not os.path.exists(os.path.abspath(os.path.join(fname, os.pardir))):\n",
    "                os.makedirs(os.path.abspath(os.path.join(fname, os.pardir)))\n",
    "            corpus_words = hyp.load(c).data[0] #TODO: FIX THIS!            \n",
    "            if not is_text(corpus_words): #TODO: THIS STATEMENT IS BROKEN...\n",
    "                if type(corpus_words[0][0]) in [bytes, np.bytes_]:\n",
    "                    corpus_words = [x[0][0].decode(encoding) for x in corpus_words]\n",
    "                else:\n",
    "                    raise Exception(f'Unuseable format: {type(corpus_words[0][0])}')\n",
    "            np.save(fname, corpus_words)\n",
    "        else:\n",
    "            corpus_words = np.load(fname)\n",
    "        return [x[0] for x in corpus_words.tolist()]\n",
    "    else:\n",
    "        if is_text(c):\n",
    "            return c\n",
    "        elif os.path.exists(c):\n",
    "            return [x[0] for x in np.load(c).tolist()]\n",
    "        else:\n",
    "            raise Exception(f'Unknown corpus: {c}')"
   ]
  },
  {
   "cell_type": "code",
   "execution_count": 47,
   "metadata": {},
   "outputs": [],
   "source": [
    "def vectorize_text(text, vectorizer='CountVectorizer', vocabulary=None, return_vocab=False):\n",
    "    if not (type(text) == list):\n",
    "        text = [text]\n",
    "    assert is_text(text), f'Must vectorize a string or list of strings (given: {type(text)})'\n",
    "    \n",
    "    if type(vectorizer) in six.string_types:\n",
    "        assert vectorizer in text_vectorizers, f'Text vectorizer must be a function or a member of {text_vectorizers}'\n",
    "        vectorizer = eval(vectorizer)\n",
    "    assert callable(vectorizer), f'Text vectorizer must be a function or a member of {text_vectorizers}'\n",
    "    \n",
    "    text2vec = vectorizer(max_df=eval(defaults['text']['max_df']),\n",
    "                          min_df=eval(defaults['text']['min_df']),\n",
    "                          stop_words=defaults['text']['stop_words'],\n",
    "                          strip_accents=defaults['text']['strip_accents'],\n",
    "                          lowercase=eval(defaults['text']['lowercase']),\n",
    "                          vocabulary=vocabulary)\n",
    "    vectorized_text = text2vec.fit_transform(text)\n",
    "    \n",
    "    if not return_vocab:\n",
    "        return vectorized_text\n",
    "    else:\n",
    "        vocab = text2vec.get_feature_names()\n",
    "        return vectorized_text, vocab"
   ]
  },
  {
   "cell_type": "code",
   "execution_count": 82,
   "metadata": {},
   "outputs": [],
   "source": [
    "def get_text_model(corpus, model, vectorizer, n_components=50):\n",
    "    if type(model) in six.string_types:\n",
    "        assert model in text_models, f'Text model must be a function or a member of {text_models}'\n",
    "        model = eval(model)\n",
    "    assert callable(model), f'Text model must be a function or a member of {text_models}'\n",
    "    \n",
    "    if type(vectorizer) in six.string_types:\n",
    "        assert vectorizer in text_vectorizers, f'Text vectorizer must be a function or a member of {text_vectorizers}'\n",
    "        vectorizer = eval(vectorizer)\n",
    "    assert callable(vectorizer), f'Text vectorizer must be a function or a member of {text_vectorizers}'\n",
    "    \n",
    "    if corpus in corpora:\n",
    "        saveable = True\n",
    "    else:\n",
    "        if not os.path.exists(corpus):        \n",
    "            assert is_text(corpus), f'Corpus must be a list of strings, or one of {corpora}'\n",
    "        saveable = False\n",
    "    \n",
    "    if saveable:\n",
    "        fname = os.path.join(eval(defaults['data']['datadir']),'text-models', model.__name__, f'{corpus}-{vectorizer.__name__}-{n_components}.npz')    \n",
    "        if not os.path.exists(os.path.abspath(os.path.join(fname, os.pardir))):\n",
    "            os.makedirs(os.path.abspath(os.path.join(fname, os.pardir)))\n",
    "    \n",
    "    if saveable and os.path.exists(fname):\n",
    "        with np.load(fname, allow_pickle=True) as x:\n",
    "            return {'vocab': x['vocab'].tolist(), 'model': x['model'].tolist()}\n",
    "    else:\n",
    "        corpus = get_corpus(corpus)\n",
    "        vectorized_corpus, vocab = vectorize_text(corpus, vectorizer=vectorizer, return_vocab=True)\n",
    "        \n",
    "        if n_components == None:\n",
    "            n_components = eval(defaults['text']['topics'])\n",
    "        args = {'n_components': n_components,\n",
    "                'max_iter': eval(defaults['text']['max_iter'])}\n",
    "        \n",
    "        if model.__name__ == 'LatentDirichletAllocation':\n",
    "            args['learning_method'] = defaults['text']['learning_method']\n",
    "            args['learning_offset'] = eval(defaults['text']['learning_offset'])\n",
    "        \n",
    "        embeddings = model(**args).fit(vectorized_corpus)\n",
    "        \n",
    "        if saveable:\n",
    "            np.savez(fname, vocab=vocab, model=embeddings)\n",
    "        \n",
    "        return {'vocab': vocab, 'model': embeddings}        "
   ]
  },
  {
   "cell_type": "code",
   "execution_count": 136,
   "metadata": {},
   "outputs": [],
   "source": [
    "nips_corpus = get_corpus('nips')"
   ]
  },
  {
   "cell_type": "code",
   "execution_count": 169,
   "metadata": {},
   "outputs": [
    {
     "ename": "AttributeError",
     "evalue": "'int' object has no attribute 'decode'",
     "output_type": "error",
     "traceback": [
      "\u001b[0;31m---------------------------------------------------------------------------\u001b[0m",
      "\u001b[0;31mAttributeError\u001b[0m                            Traceback (most recent call last)",
      "\u001b[0;32m<ipython-input-169-3533c0503e6f>\u001b[0m in \u001b[0;36m<module>\u001b[0;34m\u001b[0m\n\u001b[0;32m----> 1\u001b[0;31m \u001b[0mwiki_corpus\u001b[0m \u001b[0;34m=\u001b[0m \u001b[0mget_corpus\u001b[0m\u001b[0;34m(\u001b[0m\u001b[0;34m'wiki'\u001b[0m\u001b[0;34m)\u001b[0m\u001b[0;34m\u001b[0m\u001b[0m\n\u001b[0m",
      "\u001b[0;32m<ipython-input-168-841bade09baa>\u001b[0m in \u001b[0;36mget_corpus\u001b[0;34m(c, encoding)\u001b[0m\n\u001b[1;32m      9\u001b[0m             \u001b[0;32mif\u001b[0m \u001b[0;32mnot\u001b[0m \u001b[0mis_text\u001b[0m\u001b[0;34m(\u001b[0m\u001b[0mcorpus_words\u001b[0m\u001b[0;34m)\u001b[0m\u001b[0;34m:\u001b[0m\u001b[0;34m\u001b[0m\u001b[0m\n\u001b[1;32m     10\u001b[0m                 \u001b[0;32mif\u001b[0m \u001b[0mtype\u001b[0m\u001b[0;34m(\u001b[0m\u001b[0mcorpus_words\u001b[0m\u001b[0;34m[\u001b[0m\u001b[0;36m0\u001b[0m\u001b[0;34m]\u001b[0m\u001b[0;34m[\u001b[0m\u001b[0;36m0\u001b[0m\u001b[0;34m]\u001b[0m\u001b[0;34m)\u001b[0m \u001b[0;32min\u001b[0m \u001b[0;34m[\u001b[0m\u001b[0mbytes\u001b[0m\u001b[0;34m,\u001b[0m \u001b[0mnp\u001b[0m\u001b[0;34m.\u001b[0m\u001b[0mbytes_\u001b[0m\u001b[0;34m]\u001b[0m\u001b[0;34m:\u001b[0m\u001b[0;34m\u001b[0m\u001b[0m\n\u001b[0;32m---> 11\u001b[0;31m                     \u001b[0mcorpus_words\u001b[0m \u001b[0;34m=\u001b[0m \u001b[0;34m[\u001b[0m\u001b[0mx\u001b[0m\u001b[0;34m[\u001b[0m\u001b[0;36m0\u001b[0m\u001b[0;34m]\u001b[0m\u001b[0;34m[\u001b[0m\u001b[0;36m0\u001b[0m\u001b[0;34m]\u001b[0m\u001b[0;34m.\u001b[0m\u001b[0mdecode\u001b[0m\u001b[0;34m(\u001b[0m\u001b[0mencoding\u001b[0m\u001b[0;34m)\u001b[0m \u001b[0;32mfor\u001b[0m \u001b[0mx\u001b[0m \u001b[0;32min\u001b[0m \u001b[0mcorpus_words\u001b[0m\u001b[0;34m]\u001b[0m\u001b[0;34m\u001b[0m\u001b[0m\n\u001b[0m\u001b[1;32m     12\u001b[0m                 \u001b[0;32melse\u001b[0m\u001b[0;34m:\u001b[0m\u001b[0;34m\u001b[0m\u001b[0m\n\u001b[1;32m     13\u001b[0m                     \u001b[0;32mraise\u001b[0m \u001b[0mException\u001b[0m\u001b[0;34m(\u001b[0m\u001b[0;34mf'Unuseable format: {type(corpus_words[0][0])}'\u001b[0m\u001b[0;34m)\u001b[0m\u001b[0;34m\u001b[0m\u001b[0m\n",
      "\u001b[0;32m<ipython-input-168-841bade09baa>\u001b[0m in \u001b[0;36m<listcomp>\u001b[0;34m(.0)\u001b[0m\n\u001b[1;32m      9\u001b[0m             \u001b[0;32mif\u001b[0m \u001b[0;32mnot\u001b[0m \u001b[0mis_text\u001b[0m\u001b[0;34m(\u001b[0m\u001b[0mcorpus_words\u001b[0m\u001b[0;34m)\u001b[0m\u001b[0;34m:\u001b[0m\u001b[0;34m\u001b[0m\u001b[0m\n\u001b[1;32m     10\u001b[0m                 \u001b[0;32mif\u001b[0m \u001b[0mtype\u001b[0m\u001b[0;34m(\u001b[0m\u001b[0mcorpus_words\u001b[0m\u001b[0;34m[\u001b[0m\u001b[0;36m0\u001b[0m\u001b[0;34m]\u001b[0m\u001b[0;34m[\u001b[0m\u001b[0;36m0\u001b[0m\u001b[0;34m]\u001b[0m\u001b[0;34m)\u001b[0m \u001b[0;32min\u001b[0m \u001b[0;34m[\u001b[0m\u001b[0mbytes\u001b[0m\u001b[0;34m,\u001b[0m \u001b[0mnp\u001b[0m\u001b[0;34m.\u001b[0m\u001b[0mbytes_\u001b[0m\u001b[0;34m]\u001b[0m\u001b[0;34m:\u001b[0m\u001b[0;34m\u001b[0m\u001b[0m\n\u001b[0;32m---> 11\u001b[0;31m                     \u001b[0mcorpus_words\u001b[0m \u001b[0;34m=\u001b[0m \u001b[0;34m[\u001b[0m\u001b[0mx\u001b[0m\u001b[0;34m[\u001b[0m\u001b[0;36m0\u001b[0m\u001b[0;34m]\u001b[0m\u001b[0;34m[\u001b[0m\u001b[0;36m0\u001b[0m\u001b[0;34m]\u001b[0m\u001b[0;34m.\u001b[0m\u001b[0mdecode\u001b[0m\u001b[0;34m(\u001b[0m\u001b[0mencoding\u001b[0m\u001b[0;34m)\u001b[0m \u001b[0;32mfor\u001b[0m \u001b[0mx\u001b[0m \u001b[0;32min\u001b[0m \u001b[0mcorpus_words\u001b[0m\u001b[0;34m]\u001b[0m\u001b[0;34m\u001b[0m\u001b[0m\n\u001b[0m\u001b[1;32m     12\u001b[0m                 \u001b[0;32melse\u001b[0m\u001b[0;34m:\u001b[0m\u001b[0;34m\u001b[0m\u001b[0m\n\u001b[1;32m     13\u001b[0m                     \u001b[0;32mraise\u001b[0m \u001b[0mException\u001b[0m\u001b[0;34m(\u001b[0m\u001b[0;34mf'Unuseable format: {type(corpus_words[0][0])}'\u001b[0m\u001b[0;34m)\u001b[0m\u001b[0;34m\u001b[0m\u001b[0m\n",
      "\u001b[0;31mAttributeError\u001b[0m: 'int' object has no attribute 'decode'"
     ]
    }
   ],
   "source": [
    "wiki_corpus = get_corpus('wiki')"
   ]
  },
  {
   "cell_type": "code",
   "execution_count": 165,
   "metadata": {},
   "outputs": [
    {
     "data": {
      "text/plain": [
       "b'A 21-gun salute is the most commonly recognized of the customary gun salutes that are performed by the firing of cannons or artillery as a military honor.\\nThe custom stems from naval tradition, where a warship would fire its cannons harmlessly out to sea, until all ammunition was spent, to show that it was disarmed, signifying the lack of hostile intent. As naval customs evolved, 21 guns came to be fired for heads of state, or in exceptional circumstances for head of government, with the number decreasing with the rank of the recipient of the honor.\\nWhile the 21-gun salute is the most commonly recognized, the number of rounds fired in any given salute will vary depending on the conditions. Circumstances affecting these variations include the particular occasion and, in the case of military and state funerals, the branch of service, and rank (or office) of the person to whom honors are being rendered.\\n\\n\\n== History ==\\nThe tradition of saluting can be traced to the Late Middle Ages practice of placing oneself in an unarmed position and, therefore, in the power of those being honored. This may be noted in the dropping of the point of the sword, presenting arms, discharging cannon and small arms by firing them, lowering sails, manning the yards, removing the headdress or laying on oars.\\n\\nThe gun salute might have originated in the 17th century with the maritime practice of demanding that a defeated enemy expend its ammunition and render itself helpless until reloaded, a time-consuming operation. The gun salute had been established as a naval tradition by the late sixteenth century. A man-of-war which visited a foreign port would discharge all its guns to show that its guns were empty. Since the ship would not have enough time to reload before it was within range of the shore batteries, it was clearly demonstrating its friendly intentions by going in with empty guns.\\nSalute by gunfire is an ancient ceremony. For years, the British compelled weaker nations to render the first salute; but in time, international practice compelled \"gun for gun\" on the principle of equality of nations. In the earliest days, seven guns was the recognized British national salute because seven was the standard number of weapons on a vessel. In that day, gunpowder made from sodium nitrate was easier to keep on dry land than at sea. Thus those early regulations stated that although a ship would fire only seven guns, the forts ashore would fire three shots to each one shot afloat, hence the number 21.\\nThe system of firing an odd number of rounds is said to have been originated by Samuel Pepys, Secretary to the Navy in the Restoration, as a way of economizing on the use of powder, the rule until that time having been that all guns had to be fired. Odd numbers were chosen, as even numbers indicated a death. With the increase in quality of naval gunpowder by the use of potassium nitrate, honours rendered at sea were increased to the shore salute. 21 guns became the highest national honor.\\nThere was much confusion because of the varying customs of maritime states, but finally the British government proposed to the United States a regulation that provided for \"salutes to be returned gun for gun\". The British at that time officially considered the international salute to sovereign states to be 21 guns, and the United States adopted the 21 guns and \"gun for gun\" return on 18 August 1875.\\n\\n\\n== By country ==\\n\\n\\n=== Bangladesh ===\\nThe 21-gun salute in Bangladesh is generally used for:\\nMartyrs (a member of the armed forces or other services or a civilian who is killed in any action or however is honored as a martyr)\\nOpening the Victory Day parade show on 16 December and the Independence Day celebration on 26 March.\\nOccasions that happen to be largely associated with any national achievements or celebrations.\\n\\n\\n=== Canada ===\\nGun salutes are used at special holidays, state funerals, and for members of the Canadian Royal Family.\\n21-gun salutes are used for these people and holidays:\\nThe sovereign\\nThe Governor General of Canada (installation, special events, departure)\\nForeign heads of state\\nMembers of foreign reigning royal families\\nThe monarch\\'s official birthday (Monday prior to 25 May, in each provincial capital as well as the national capital)\\nCanada Day (1 July, in each provincial capital as well as the national capital)\\nRemembrance Day (however the proper rate of fire for this \"Funeral Salute\" is one round per minute rather than the normal one round every seven seconds) - the historically correct practice of firing the \"Funeral Salute\" at one minute intervals was revived by The Seymour Artillery Company at Port Moody, BC, in 2007 and has been adopted at other sites since that date, (11 November, in many locations in Canada including provincial capitals, Ottawa, and Montreal)\\nBirth of a member of the Royal Family\\nThe prime minister, heads of foreign missions, foreign heads of government, and the Vice President of the United States are entitled to a 19 gun salute.\\nA 17-gun salute is given to the Canadian Minister of National Defence when visiting a saluting station (limited to once a year), as well as foreign ministers of defence.\\nA 15-gun salute is given on certain occasions for the lieutenant governors of the provinces, such as the Speech from the Throne in a provincial legislature, or for special occasions such as state funerals of important persons.\\nBefore they were abolished in 1968 by the Trudeau government, royal salutes used to be fired in Ottawa, the provincial capitals, and Montreal and Vancouver also on the Queen\\'s Accession Day (February 6), the Queen\\'s actual birthday (April 21), the Queen\\'s Coronation Day (June 2), the Birthday of the Duke of Edinburgh (June 10), and the Birthday of Queen Elizabeth the Queen Mother (August 4).\\n\\n\\n=== Republic of China (Taiwan) ===\\nThe 21-gun salute is used in the Republic of China in honor of the President during National Day celebrations. After military band trumpeters sound the attention call, the audience is asked to stand up as the President enters. After she or he stands in the podium, the gun salute starts while the gun salute music is played. In some celebrations, it is done while the National Anthem is played, preceded by four ruffles and flourishes..\\n\\n\\n=== Czech Republic ===\\nThis cannonade salute is used in relation to Czech presidential events and for the inauguration of the Prague Castle guard. It is fired to the sound of the National Anthem. The cannons used today were modified in 1993 from decommissioned 85mm vz.52 artillery cannons with electronic firing mechanisms by the Czech Military Technical Institute of arms and ammunition in Slavi\\xc4\\x8d\\xc3\\xadn. The ammunition used is a version of blank shells, modified for an increased acoustic effect. Shots are traditionally fired from either two or four cannons so that, in the case of a failure of one of the weapons, the others will substitute it.\\nThe salute was given to the ex-president V\\xc3\\xa1clav Havel by an artillery battery of four cannons (each firing 21 times) from the Pet\\xc5\\x99\\xc3\\xadn hill on the 23 December 2011 during the commemorative service after his death.\\n\\n\\n=== Denmark ===\\n\\nGun salutes are used for a variety of occasions, mostly in honor of the Danish Royal Family. There are permanent salutory guns in place at Kronborg Castle in Elsinore, the Sixtus battery at Holmen naval base in Copenhagen, as well as at the naval base at Kangilinnguit in Greenland.\\nA 27-gun salute is used in honor of Majesties, whereas the 21-gun salute is used in honor of other members of the Danish Royal Family.\\nGun salutes occur on:\\n16 April - Birthday of HM the Queen\\n11 June - Birthday of HRH the Prince Consort\\nAt the occasion of royal births\\nAt the occasion of royal funerals\\nGun salutes also occur during naval visits and when a foreign head of state arrives on a state visit. Also, when HM the Queen heads out on her annual summer cruise on the Royal Yacht Dannebrog, she is saluted when passing Kronborg.\\nThe day after the birth of Princess Benedikte in 1944 which took place during Nazi Germany\\'s Occupation of Denmark, members of the Danish resistance group Holger Danske performed a salute of 21 bombs in the \\xc3\\x98rstedsparken public park in central Copenhagen as a reference to the traditional 21-gun salute performed at the occasion of royal births.\\n\\n\\n=== France ===\\n\\nThe 21-gun is accorded to the President of the French Republic, forming part of his \"military honors\" (honneurs militaires). The salute is given during the inauguration ceremony (by two 75mm guns) and during naval visits. These honors are extended to foreign heads of state when in State visit.\\nAll French Navy vessels anchored in a French harbor on Bastille Day must issue a 21-gun salute at noon, subjected to local regulation.\\n\\n\\n=== India ===\\nThe 21-gun salute is accorded to the President of India on several occasions. As soon as a new President is sworn in, a 21-gun salute is given. On Republic Day of India, every year, a 21-gun salute is given to the National Flag and the President, during the Flag Hoisting Ceremony. When a foreign head of State or head of government visits India, a formal reception is held at the Rashtrapati Bhavan, and the head of state is given a 21-gun salute, with a 19-gun salute given to a foreign head of government.\\nDuring the British Raj, India developed a formal hierarchical system of gun salutes. At the time of Indian independence in 1947, the hierarchy of salutes within British India stood as follows:\\nPrior to Indian independence in 1947, the Viceroy of India received a unique viceregal salute of 31 guns. After 1947, the 31-gun salute was retained for honouring the Governor-General of India (1947-1950), and for the President of India from 1950 until 1971, as several former Indian salute-state princes enjoyed 21-gun salutes even after independence. The 31-gun salute was used upon the inaugurations and official arrivals of Presidents of India, and was finally replaced with the 21-gun salute in 1971, when the former salute-state princes\\' privilege of receiving gun salutes was revoked.\\nThe more important of the hundreds of vassal rulers of princely states involved in indirect rule were classified by the number of guns used when paying honours to them, signifying their prestige in the eyes of the British. The highest of these so-called \"salute states\" (also in some other parts of the British Empire) enjoyed 21 guns.\\nDuring British colonial rule in India, the heads of the following states received 21-gun salutes:\\nHyderabad\\nMysore\\nJammu and Kashmir\\nBaroda\\nGwalior\\nThe heads of the following states received 19-gun salutes:\\nBhopal (21 local)\\nIndore (21 local)\\nUdaipur (21 local)\\nKolhapur\\nTravancore\\nKalat\\nThe heads of the following states had 17-gun salutes:\\nBharatpur (19 local)\\nBikaner (19 local)\\nCutch (19 local)\\nJaipur/Amber (19 local)\\nJodhpur/Marwar (19 local)\\nPatiala (19 local)\\nTonk\\nBundi\\nBahawalpur\\nKotah\\nCochin\\nKarauli\\nRewa\\n\\n\\n=== Indonesia ===\\nIn Indonesia, the 21-gun salute is executed during the commemoration of the seconds of proclamation of the independence of Indonesia on every 17th of august at 10 am near the Merdeka Palace at Jakarta. It is also done in other cities in Indonesia during the independence day commemoration ceremonies. The 21-gun salute is also sometimes done during the state-visit of foreign state leaders in Indonesia. The responsibility of this activity is done by the Artillery units from the Indonesian Army and sometimes from the Indonesian Marine Corps Artillery regiments.\\nSee the 21-gun salute in Indonesia here: Indonesian Independence Day 21-gun salute\\n\\n\\n=== Israel ===\\nIn Israel the practice of gun salute has been eliminated since Israel has suffered many terror attacks and thus the firing of arms has a negative connotation. The three-volley salute is still used in military funerals.\\n\\n\\n=== Philippines ===\\nThe 21-gun salute is used in events, such as the inauguration of the President, death of a top military official, death of a former president or courtesy calls of foreign leaders during their state visits. The practice is heavily influenced by the United States of America.\\nGun salutes can occur on:\\n30 June - The official date of Inaugurations\\nSelected day in March - Graduation Parade of the Philippine Military Academy\\n23 March - Army Day\\n9 April - Araw ng Kagitingan (Day of Valor)\\n20 May - Navy Day\\n12 June - Independence Day\\n1 July - Air Force Day\\n21 December - Founding of the Armed Forces of the Philippines(Armed Forces Day)\\nOn the occasions of service change of command ceremonies and ceremonial parades\\nOn these days, the 21-gun salute is done by either the Philippine Army or the Philippine Marine Corps.\\nThe three-volley gun salute can also occur in the death of the low ranking military officials and soldiers who died heroically in combat while the 21-guns are reserved upon news of the deaths of national leaders. The normal 21-gun salute is also given to visiting heads of state upon their arrival at Malaca\\xc3\\xb1ang Palace, with the guns manned by the Presidential Security Group.\\nOther salutes include 19 guns for the Vice President of the Philippines, 17 for the Chief of Staff, AFP, service commanders and the Secretary of National Defense. 15 guns are fired for other Cabinet secretaries.\\n\\n\\n=== Poland ===\\nIn Poland the 21-gun salute is used in military funerals and funerals of fallen leaders and heroes. Known as the Salwa Honorowa (Honour Salute), it is also used in national holidays.\\n\\n\\n=== Pakistan ===\\nIn Pakistan a 21-gun salute is used on occasions such as on Pakistan Day (23 March), on which a 21-gun salute is given in provincial capitals and 31 in Islamabad, the federal capital. It is also given on Independence Day (14 August) and Defence Day (6 September). A 31-gun salute in Islamabad and a 21-gun salute in provincial capitals is also given on 12 Rabi-ul-Awwal the birth date of Prophet Muhammad. It is also given when a foreign president or prime minister visits Pakistan.\\n\\n\\n=== Romania ===\\nSalute with 21 cannons is awarded in honor of the National Day, the National Anthem or Flag, in honor of a sovereign or a foreign head of state.\\n\\n\\n=== Singapore ===\\nA 21-gun salute is carried out for National Day Parades in Singapore by the Singapore Artillery during the presidential inspection of parade contingents.\\nThe 21-gun salute was given to the former prime minister and founding leader Lee Kuan Yew during his state funeral.\\n\\n\\n=== Sweden ===\\n\\n21-gun salutes mark special royal occasions throughout Sweden, referred to as a Kunglig Salut (Royal Salute). The number of rounds fired in a salute depends on the place and occasion. The basic salute is 21 rounds. However, when a birth takes place within the Royal House of Sweden, and the child is the firstborn to either the reigning monarch or to the heir to the throne, an extra 21 rounds (for a total of 42) are added to the normal salute. In all other births 21 rounds are fired.\\nGun salutes occur on:\\n28 January - Name day of HM the King\\n30 April - Birthday of HM the King\\n6 June - National day of Sweden\\n14 July - Birthday of HRH Crown Princess Victoria\\n8 August - Name day of HM the Queen\\n23 December - Birthday of HM the Queen\\nGun salutes also occur at royal weddings, royal births, royal deaths and when a foreign head of state arrives on a state visit in Stockholm.\\nMilitary saluting stations are Skeppsholmen and Kastellholmen in Stockholm, Fortress of Kungshall in Karlskrona, Battery of F\\xc3\\xa5r\\xc3\\xb6sund on the island of Gotland, Boden Fortress in Boden, Battery of Kusth\\xc3\\xb6jden in H\\xc3\\xa4rn\\xc3\\xb6sand, Vaxholm Castle in Vaxholm, Skansen Lejonet Fortress and \\xc3\\x84lvsborg Castle in Gothenburg.\\n19-gun salutes are used for heads of government, cabinet ministers and ambassadors.\\nThe Swedish Armed Forces also use a gun salute consisting of two rapid gunshots. This salute, called Svensk L\\xc3\\xb6sen (Swedish signal), was fired whenever a Swedish ship would enter a harbour in order to identify the ship as Swedish, or on the field of battle to identify the Swedish troops. Sometimes a double signal was fired, i.e. four gunshots fired two and two, hence the Swedish tradition of a fourfold cheer instead of a threefold. This signal is today fired on special occasions, usually within the military.\\n\\n\\n=== United Kingdom ===\\n21-gun salutes mark special royal occasions throughout the United Kingdom and the Commonwealth, referred to as a \"Royal Salute\" (in the British Empire it was reserved, mainly among colonial princely states, for the most prestigious category of native rulers of so-called salute states), unless rendered to the president or flag of a republic; nonetheless salutes rendered to all heads of state regardless of title are casually referred to as \"royal\" salutes.\\n\\nThe number of rounds fired in a salute depends on the place and occasion. The basic salute is 21 rounds. In Hyde Park and Green Park an extra 20 rounds are added because they are Royal Parks. At the Tower of London 62 rounds are fired on royal anniversaries (the basic 21, plus a further 20 because the Tower is a Royal Palace and Fortress, plus another 21 \\'for the City of London\\') and 41 on other occasions. The Tower of London probably holds the record for the most rounds fired in a single salute \\xe2\\x80\\x94 124 are fired whenever the Duke of Edinburgh\\'s birthday (62 rounds) coincides with the Saturday designated as the Queen\\'s official birthday (also 62 rounds).\\n\\nGun salutes occur on:\\nAccession Day (6 February)\\nThe Queen\\'s actual birthday (21 April)\\nCoronation Day (the anniversary of The Queen\\'s Coronation, 2 June)\\nThe birthday of Prince Philip, Duke of Edinburgh (10 June)\\nThe Queen\\'s official birthday (the first, second, or third Saturday in June)\\nThe birthday of Charles, Prince of Wales (14 November)\\nThe morning of bonfire night to symbolise Guy Fawkes being found under the houses of parliament. (5 November)\\nGun salutes also occur when Parliament is prorogued by the Queen, on royal births and when a visiting head of state meets the Queen in London, Windsor or Edinburgh. A Royal Salute of 21 Guns is fired at Edinburgh Castle in honour of The Queen or Her Personal Representative, the High Commissioner (female) or Lord High Commissioner (male), when processing in state to the Opening of the General Assembly of the Church of Scotland which occurs annually in May. The significance of the 21 Gun Salute is that the Lord High Commissioner is representing the Sovereign as Head of State.\\n\\nAuthorized military saluting stations are:\\nin England:\\nHyde Park, London\\nThe Tower of London\\nRoyal Arsenal, Woolwich\\nYork Museum Gardens\\nColchester\\nRoyal Artillery Barracks, Larkhill\\nRoyal Citadel, Plymouth\\nDover Castle\\nFort Blockhouse, Gosport\\nin Scotland:\\nEdinburgh Castle\\nStirling Castle\\nin Wales:\\nCardiff\\nin Northern Ireland:\\nHillsborough Castle\\nSalutes are also fired in Gibraltar.\\nIn London, salutes are fired from Hyde Park and the Tower of London; on State Visits, at the State Opening of Parliament and for Trooping the Colour, Green Park is used instead of Hyde Park. In Hyde Park, the salute is fired by the King\\'s Troop, Royal Horse Artillery. The first round is fired at noon (11am on The Queen\\'s official birthday). At the Tower of London, the salute is fired by the Honourable Artillery Company at 1pm.\\nSalutes in Northern Ireland are usually fired from Hillsborough Castle by 206 (Ulster) Battery, although recently they have also been fired from HMS Caroline in Belfast Harbour.\\n19-gun salutes are used for Field Marshals, ambassadors, and the heads of executive branch of Parliamentary governments (i.e. Prime Ministers).\\nAt 6am annually, in the market town of Lewes, a mortar is fired from the battlements to mark when Guy Fawkes was found and marks the start of Bonfire Night. The mortar is traditionally followed by the sound fire crackers and bangers being let off throughout the town.\\n\\n\\n=== United States ===\\nBeginning in the colonial period, the United States fired one shot for each state in the Union as its national salute.\\nOn 16 November 1776, the West Indian port of St. Eustatius returned a 9-gun salute for the 13-gun salute given by the American brigantine Andrew Doria. At the time, nine guns was the customary salute to an independent republic. This First Salute was specifically ordered by the Dutch governor of the island, and marks the first formal international recognition of the United States as an independent republic. The flag flown by the Andrew Doria was the Grand Union Flag, 13 alternating red and white stripes with the British Flag in the union. The Stars and Stripes received its first salute when John Paul Jones saluted France with 13 guns at Quiberon Bay in 1778 (the Stars and Stripes was not adopted as the national flag until 14 June 1777).\\nThe practice of firing one gun for each state in the union was not officially authorized until 1810, when the United States Department of War declared the number of rounds fired in the \"National Salute\" to be equivalent to the number of states\\xe2\\x80\\x94which, at the time was 17. The tradition continued until 1841 when it was reduced from 26 to 21.\\n\\nIn 1842, the United States declared the 21-gun salute as its \"Presidential Salute\". While the \"National Salute\" had been formally established as the 21-gun salute, the current tradition holds the salute on Independence Day to be a 50 rounds\\xe2\\x80\\x94one round for each state in the union. This \\'Salute to the Nation\\' is fired at noon on 4 July, on U.S. military installations, while the U.S. Navy full-dresses ships and fires 21 guns at noon on 4 July, as well as on Presidents\\' Day.\\nIn April 1914, during the Mexican Revolution, the Tampico Affair occurred, and escalated as a result of a twenty-one gun salute(or more specifically, the lack of one). Nine unarmed American sailors were arrested in Tampico, Tamaulipas, Mexico, for entering an off-limit area at a fuel loading station. Despite being released, the US Naval commander demanded an apology and a twenty-one gun salute. The apology was provided, but not the salute, giving President Woodrow Wilson reason to order the American occupation of the port of Veracruz. Due to an arms embargo from the United States, issued to try to lessen the bloodshed of the revolution at its border, Mexico was forced to seek arms from European, and to a lesser extent Asian countries. During the occupation, a large German arms shipment aboard the SS Ypiranga was illegally seized, before being released and turned away by the American occupation force. These events ultimately drove a wedge between Mexican-American and German-American relations, and after the start of World War I on 28 July 1914, would cause Germany to seek to influence Mexico into declaring war on the United States, in order to halt American arms shipments to the Allies, and attempt to prevent the then isolationist United States from joining the Allies. This effort ultimately backfired, after culminating in the sending of the Zimmerman Telegram from Germany to Mexico, which urged Mexico to declare war on America, promising support and the return of much of the territory lost during the Mexican-American War, which, after being intercepted, caused America to enter the war on the side of the Allies on 6 April 1917, and due in large part to the arrival of fresh American troops into the war, largely a stalemate in its first years, would lead to the surrender of Germany on 11 November 1918, after helping to overpower the German Army, already fatigued from a long and costly war.\\nOn Memorial Day, batteries on military installations fire a 21-gun salute to the nation\\'s fallen. As well, batteries at Naval stations and on ships, fire a salute of 21-minute guns and display the ensign at half-mast from 8 a.m. until completion of the salute.\\nToday, a 21-gun salute is rendered on the arrival and departure of the President of the United States; it is fired in concordance with four ruffles and flourishes, which are immediately followed by \"Hail to the Chief\"\\xe2\\x80\\x94the actual gun salute begins with the first ruffle and flourish, and \\'run long\\' (i.e. the salute concludes after \"Hail to the Chief\" has ended). A 21-gun salute is also rendered to former U.S. Presidents, foreign Heads of State (or members of a reigning royal family), as well as to Presidents-elect. In such a ceremony, the national anthem of the visiting dignitary\\'s country is played, following the salute.\\nIn accordance with the ceremonial standard operating procedure (SOP) of the 3rd US Infantry (The Old Guard) the various gun salutes are assigned as follows: each round in a given salute is fired one at a time. The number of cannon used in a battery depends upon the intervals between each round fired. This includes, for example, a three-gun battery firing two of its guns with five-second intervals between rounds and one gun remaining at the ready in case of a misfire; such a battery would be used at an Armed Forces Full Honors Funeral, or for State Arrival Ceremony of a foreign dignitary at the Tomb of the Unknowns in Arlington National Cemetery. A four-gun battery has its first three guns firing rounds at three-second intervals, with the fourth gun (again) at the ready in case of misfire.\\nThe SOP also provides each gun salute a two-man gun crew (one loader, one gunner) for each cannon, as well as a five-man \"staff\" of soldiers to give the fire commands. The staff includes an Officer in Charge, a watchman (who marks the intervals and signals each gun to fire), an assistant watchman (as a backup), a counter (who keeps track of the number of rounds fired and signals the last round to the Officer in Charge), and a Non-Commissioned Officer in Charge (who marches the battery into place as well as signals the backup cannon to fire in case another gun misfires).\\nNaval vessels now have saluting guns installed which are used solely for such purpose.\\nNineteen-gun salutes are reserved for the Vice President of the United States, foreign deputy heads of state, cabinet members, Speaker of the House of Representatives, President pro tempore of the Senate, Chief Justice of the United States, state Governors, foreign heads of government (such as Prime Ministers), chiefs of staff and general officers in the U.S. military of five-star rank. For each flag rank junior to a five-star officer, two guns are subtracted (e.g., for a four-star admiral, a 17-gun salute is prescribed; a three-star general would rate a 15-gun salute; a two-star, 13 guns, and a one-star, 11 guns).\\nA gun salute is not to be confused with the three-volley salute often rendered at military funerals.\\nThe gun salutes fired in the United States are as follows:\\n\\n\\n==== Deaths of presidents ====\\n\\nA U.S. presidential death also involves 21-gun salutes and other military traditions. On the day after the death of the president, a former president or president-elect\\xe2\\x80\\x94unless this day falls on a Sunday or holiday, in which case the honor will be rendered the following day\\xe2\\x80\\x94the commanders of Army installations with the necessary personnel and material traditionally order that one gun be fired every half-hour, beginning at reveille and ending at retreat.\\nOn the day of burial, a 21-minute gun salute traditionally is fired starting at noon at all military installations with the necessary personnel and material. Guns will be fired at one-minute intervals. Also on the day of burial, those installations will fire a 50-gun salute\\xe2\\x80\\x94one round for each state\\xe2\\x80\\x94at five-second intervals immediately following lowering of the flag.\\n\\n\\n=== Venezuela ===\\nA 21-gun salute by an artillery battalion from either the Venezuelan Army or the Venezuelan Marine Corps is fired on the folllowing dates:\\nOn the inauguration of a new President\\nState funerals of former Presidents\\n15 January, for the State of the Nation Address\\n24 June, Army Day\\n5 July, Independence Day\\n24 July, Navy Day\\n27 November, Air Force Day\\n\\n\\n== Media ==\\n\\n\\n== Cultural references ==\\nThe title of the Green Day song \"21 Guns\" is a reference to a 21-gun salute.\\nIn the song \"For Those About to Rock (We Salute You)\" by AC/DC 21-gun salutes are mentioned.\\nThe song \"Move Now\" by Nonpoint also includes a reference.\\nIn the film Chitty Chitty Bang Bang, when the Grandfather sings \"Posh\" whilst dangling from a hot air balloon, there is a line \"they 21 gun salute me\".\\nBoston-based Celtic punk band Dropkick Murphys recorded the song \"21 Guitar Salute\" (originally by The Press) on their 2002 split EP Face to Face vs. Dropkick Murphys.\\nThe 21-gun salute are also mentioned in the song \"Methods to your Madness\" by heavy metal band Metal Church.\\nAnother mention is in the Clutch song \"The Mob Goes Wild\".\\nBritish Grime artist Stormzy included a song titled \"21 Gun Salute\" on his debut album Gang Signs & Prayer.\\nThe 2000 U.S. Open Golf Championship, held at the famed Pebble Beach Golf Links, saw a unique twist on the 21-gun salute. The tournament\\'s defending champion, Payne Stewart, had died in a plane crash the previous October. Before the tournament began, a ceremony was held in Stewart\\'s memory in which 21 golfers lined up on the 18th fairway and hit drives into the Pacific Ocean.\\n\\n\\n== See also ==\\nCelebratory gunfire\\nNear-shore salute - custom of bringing a ship close to shore to \"salute\" those on land\\nThree-volley salute\\nTen-bell salute\\n\\n\\n== References ==\\n\\n\\n== External links ==\\nNavy Regulations, 1990, Ch 12, Flags, Pennants, Honors, Ceremonies and Customs\\nAR 600-25 Salutes, Honors, and Visits of Courtesy\\nOrigins of the 21-gun salute at the United States Army Center of Military History\\nThe 21-Gun International Salute\\nRoyalArk- India - salute states\\nUrban Legend re: Sum of Digits of 1776\\nHonours and salutes - Department of Canadian Heritage'"
      ]
     },
     "execution_count": 165,
     "metadata": {},
     "output_type": "execute_result"
    }
   ],
   "source": [
    "wiki_corpus[0][0]"
   ]
  },
  {
   "cell_type": "code",
   "execution_count": 143,
   "metadata": {},
   "outputs": [],
   "source": [
    "sotus_corpus = get_corpus('sotus')"
   ]
  },
  {
   "cell_type": "code",
   "execution_count": 144,
   "metadata": {},
   "outputs": [
    {
     "data": {
      "text/plain": [
       "list"
      ]
     },
     "execution_count": 144,
     "metadata": {},
     "output_type": "execute_result"
    }
   ],
   "source": [
    "type(sotus_corpus)"
   ]
  },
  {
   "cell_type": "code",
   "execution_count": 145,
   "metadata": {},
   "outputs": [
    {
     "data": {
      "text/plain": [
       "29"
      ]
     },
     "execution_count": 145,
     "metadata": {},
     "output_type": "execute_result"
    }
   ],
   "source": [
    "len(sotus_corpus)"
   ]
  },
  {
   "cell_type": "code",
   "execution_count": 153,
   "metadata": {},
   "outputs": [
    {
     "data": {
      "text/plain": [
       "'A 21-gun salute is the most commonly recognized of the customary gun salutes that are performed by the firing of cannons or artillery as a military honor.\\nThe custom stems from naval tradition, where a warship would fire its cannons harmlessly out to sea, until all ammunition was spent, to show that it was disarmed, signifying the lack of hostile intent. As naval customs evolved, 21 guns came to be fired for heads of state, or in exceptional circumstances for head of government, with the number decreasing with the rank of the recipient of the honor.\\nWhile the 21-gun salute is the most commonly recognized, the number of rounds fired in any given salute will vary depending on the conditions. Circumstances affecting these variations include the particular occasion and, in the case of military and state funerals, the branch of service, and rank (or office) of the person to whom honors are being rendered.\\n\\n\\n== History ==\\nThe tradition of saluting can be traced to the Late Middle Ages practice of placing oneself in an unarmed position and, therefore, in the power of those being honored. This may be noted in the dropping of the point of the sword, presenting arms, discharging cannon and small arms by firing them, lowering sails, manning the yards, removing the headdress or laying on oars.\\n\\nThe gun salute might have originated in the 17th century with the maritime practice of demanding that a defeated enemy expend its ammunition and render itself helpless until reloaded, a time-consuming operation. The gun salute had been established as a naval tradition by the late sixteenth century. A man-of-war which visited a foreign port would discharge all its guns to show that its guns were empty. Since the ship would not have enough time to reload before it was within range of the shore batteries, it was clearly demonstrating its friendly intentions by going in with empty guns.\\nSalute by gunfire is an ancient ceremony. For years, the British compelled weaker nations to render the first salute; but in time, international practice compelled \"gun for gun\" on the principle of equality of nations. In the earliest days, seven guns was the recognized British national salute because seven was the standard number of weapons on a vessel. In that day, gunpowder made from sodium nitrate was easier to keep on dry land than at sea. Thus those early regulations stated that although a ship would fire only seven guns, the forts ashore would fire three shots to each one shot afloat, hence the number 21.\\nThe system of firing an odd number of rounds is said to have been originated by Samuel Pepys, Secretary to the Navy in the Restoration, as a way of economizing on the use of powder, the rule until that time having been that all guns had to be fired. Odd numbers were chosen, as even numbers indicated a death. With the increase in quality of naval gunpowder by the use of potassium nitrate, honours rendered at sea were increased to the shore salute. 21 guns became the highest national honor.\\nThere was much confusion because of the varying customs of maritime states, but finally the British government proposed to the United States a regulation that provided for \"salutes to be returned gun for gun\". The British at that time officially considered the international salute to sovereign states to be 21 guns, and the United States adopted the 21 guns and \"gun for gun\" return on 18 August 1875.\\n\\n\\n== By country ==\\n\\n\\n=== Bangladesh ===\\nThe 21-gun salute in Bangladesh is generally used for:\\nMartyrs (a member of the armed forces or other services or a civilian who is killed in any action or however is honored as a martyr)\\nOpening the Victory Day parade show on 16 December and the Independence Day celebration on 26 March.\\nOccasions that happen to be largely associated with any national achievements or celebrations.\\n\\n\\n=== Canada ===\\nGun salutes are used at special holidays, state funerals, and for members of the Canadian Royal Family.\\n21-gun salutes are used for these people and holidays:\\nThe sovereign\\nThe Governor General of Canada (installation, special events, departure)\\nForeign heads of state\\nMembers of foreign reigning royal families\\nThe monarch\\'s official birthday (Monday prior to 25 May, in each provincial capital as well as the national capital)\\nCanada Day (1 July, in each provincial capital as well as the national capital)\\nRemembrance Day (however the proper rate of fire for this \"Funeral Salute\" is one round per minute rather than the normal one round every seven seconds) - the historically correct practice of firing the \"Funeral Salute\" at one minute intervals was revived by The Seymour Artillery Company at Port Moody, BC, in 2007 and has been adopted at other sites since that date, (11 November, in many locations in Canada including provincial capitals, Ottawa, and Montreal)\\nBirth of a member of the Royal Family\\nThe prime minister, heads of foreign missions, foreign heads of government, and the Vice President of the United States are entitled to a 19 gun salute.\\nA 17-gun salute is given to the Canadian Minister of National Defence when visiting a saluting station (limited to once a year), as well as foreign ministers of defence.\\nA 15-gun salute is given on certain occasions for the lieutenant governors of the provinces, such as the Speech from the Throne in a provincial legislature, or for special occasions such as state funerals of important persons.\\nBefore they were abolished in 1968 by the Trudeau government, royal salutes used to be fired in Ottawa, the provincial capitals, and Montreal and Vancouver also on the Queen\\'s Accession Day (February 6), the Queen\\'s actual birthday (April 21), the Queen\\'s Coronation Day (June 2), the Birthday of the Duke of Edinburgh (June 10), and the Birthday of Queen Elizabeth the Queen Mother (August 4).\\n\\n\\n=== Republic of China (Taiwan) ===\\nThe 21-gun salute is used in the Republic of China in honor of the President during National Day celebrations. After military band trumpeters sound the attention call, the audience is asked to stand up as the President enters. After she or he stands in the podium, the gun salute starts while the gun salute music is played. In some celebrations, it is done while the National Anthem is played, preceded by four ruffles and flourishes..\\n\\n\\n=== Czech Republic ===\\nThis cannonade salute is used in relation to Czech presidential events and for the inauguration of the Prague Castle guard. It is fired to the sound of the National Anthem. The cannons used today were modified in 1993 from decommissioned 85mm vz.52 artillery cannons with electronic firing mechanisms by the Czech Military Technical Institute of arms and ammunition in Slavičín. The ammunition used is a version of blank shells, modified for an increased acoustic effect. Shots are traditionally fired from either two or four cannons so that, in the case of a failure of one of the weapons, the others will substitute it.\\nThe salute was given to the ex-president Václav Havel by an artillery battery of four cannons (each firing 21 times) from the Petřín hill on the 23 December 2011 during the commemorative service after his death.\\n\\n\\n=== Denmark ===\\n\\nGun salutes are used for a variety of occasions, mostly in honor of the Danish Royal Family. There are permanent salutory guns in place at Kronborg Castle in Elsinore, the Sixtus battery at Holmen naval base in Copenhagen, as well as at the naval base at Kangilinnguit in Greenland.\\nA 27-gun salute is used in honor of Majesties, whereas the 21-gun salute is used in honor of other members of the Danish Royal Family.\\nGun salutes occur on:\\n16 April - Birthday of HM the Queen\\n11 June - Birthday of HRH the Prince Consort\\nAt the occasion of royal births\\nAt the occasion of royal funerals\\nGun salutes also occur during naval visits and when a foreign head of state arrives on a state visit. Also, when HM the Queen heads out on her annual summer cruise on the Royal Yacht Dannebrog, she is saluted when passing Kronborg.\\nThe day after the birth of Princess Benedikte in 1944 which took place during Nazi Germany\\'s Occupation of Denmark, members of the Danish resistance group Holger Danske performed a salute of 21 bombs in the Ørstedsparken public park in central Copenhagen as a reference to the traditional 21-gun salute performed at the occasion of royal births.\\n\\n\\n=== France ===\\n\\nThe 21-gun is accorded to the President of the French Republic, forming part of his \"military honors\" (honneurs militaires). The salute is given during the inauguration ceremony (by two 75mm guns) and during naval visits. These honors are extended to foreign heads of state when in State visit.\\nAll French Navy vessels anchored in a French harbor on Bastille Day must issue a 21-gun salute at noon, subjected to local regulation.\\n\\n\\n=== India ===\\nThe 21-gun salute is accorded to the President of India on several occasions. As soon as a new President is sworn in, a 21-gun salute is given. On Republic Day of India, every year, a 21-gun salute is given to the National Flag and the President, during the Flag Hoisting Ceremony. When a foreign head of State or head of government visits India, a formal reception is held at the Rashtrapati Bhavan, and the head of state is given a 21-gun salute, with a 19-gun salute given to a foreign head of government.\\nDuring the British Raj, India developed a formal hierarchical system of gun salutes. At the time of Indian independence in 1947, the hierarchy of salutes within British India stood as follows:\\nPrior to Indian independence in 1947, the Viceroy of India received a unique viceregal salute of 31 guns. After 1947, the 31-gun salute was retained for honouring the Governor-General of India (1947-1950), and for the President of India from 1950 until 1971, as several former Indian salute-state princes enjoyed 21-gun salutes even after independence. The 31-gun salute was used upon the inaugurations and official arrivals of Presidents of India, and was finally replaced with the 21-gun salute in 1971, when the former salute-state princes\\' privilege of receiving gun salutes was revoked.\\nThe more important of the hundreds of vassal rulers of princely states involved in indirect rule were classified by the number of guns used when paying honours to them, signifying their prestige in the eyes of the British. The highest of these so-called \"salute states\" (also in some other parts of the British Empire) enjoyed 21 guns.\\nDuring British colonial rule in India, the heads of the following states received 21-gun salutes:\\nHyderabad\\nMysore\\nJammu and Kashmir\\nBaroda\\nGwalior\\nThe heads of the following states received 19-gun salutes:\\nBhopal (21 local)\\nIndore (21 local)\\nUdaipur (21 local)\\nKolhapur\\nTravancore\\nKalat\\nThe heads of the following states had 17-gun salutes:\\nBharatpur (19 local)\\nBikaner (19 local)\\nCutch (19 local)\\nJaipur/Amber (19 local)\\nJodhpur/Marwar (19 local)\\nPatiala (19 local)\\nTonk\\nBundi\\nBahawalpur\\nKotah\\nCochin\\nKarauli\\nRewa\\n\\n\\n=== Indonesia ===\\nIn Indonesia, the 21-gun salute is executed during the commemoration of the seconds of proclamation of the independence of Indonesia on every 17th of august at 10 am near the Merdeka Palace at Jakarta. It is also done in other cities in Indonesia during the independence day commemoration ceremonies. The 21-gun salute is also sometimes done during the state-visit of foreign state leaders in Indonesia. The responsibility of this activity is done by the Artillery units from the Indonesian Army and sometimes from the Indonesian Marine Corps Artillery regiments.\\nSee the 21-gun salute in Indonesia here: Indonesian Independence Day 21-gun salute\\n\\n\\n=== Israel ===\\nIn Israel the practice of gun salute has been eliminated since Israel has suffered many terror attacks and thus the firing of arms has a negative connotation. The three-volley salute is still used in military funerals.\\n\\n\\n=== Philippines ===\\nThe 21-gun salute is used in events, such as the inauguration of the President, death of a top military official, death of a former president or courtesy calls of foreign leaders during their state visits. The practice is heavily influenced by the United States of America.\\nGun salutes can occur on:\\n30 June - The official date of Inaugurations\\nSelected day in March - Graduation Parade of the Philippine Military Academy\\n23 March - Army Day\\n9 April - Araw ng Kagitingan (Day of Valor)\\n20 May - Navy Day\\n12 June - Independence Day\\n1 July - Air Force Day\\n21 December - Founding of the Armed Forces of the Philippines(Armed Forces Day)\\nOn the occasions of service change of command ceremonies and ceremonial parades\\nOn these days, the 21-gun salute is done by either the Philippine Army or the Philippine Marine Corps.\\nThe three-volley gun salute can also occur in the death of the low ranking military officials and soldiers who died heroically in combat while the 21-guns are reserved upon news of the deaths of national leaders. The normal 21-gun salute is also given to visiting heads of state upon their arrival at Malacañang Palace, with the guns manned by the Presidential Security Group.\\nOther salutes include 19 guns for the Vice President of the Philippines, 17 for the Chief of Staff, AFP, service commanders and the Secretary of National Defense. 15 guns are fired for other Cabinet secretaries.\\n\\n\\n=== Poland ===\\nIn Poland the 21-gun salute is used in military funerals and funerals of fallen leaders and heroes. Known as the Salwa Honorowa (Honour Salute), it is also used in national holidays.\\n\\n\\n=== Pakistan ===\\nIn Pakistan a 21-gun salute is used on occasions such as on Pakistan Day (23 March), on which a 21-gun salute is given in provincial capitals and 31 in Islamabad, the federal capital. It is also given on Independence Day (14 August) and Defence Day (6 September). A 31-gun salute in Islamabad and a 21-gun salute in provincial capitals is also given on 12 Rabi-ul-Awwal the birth date of Prophet Muhammad. It is also given when a foreign president or prime minister visits Pakistan.\\n\\n\\n=== Romania ===\\nSalute with 21 cannons is awarded in honor of the National Day, the National Anthem or Flag, in honor of a sovereign or a foreign head of state.\\n\\n\\n=== Singapore ===\\nA 21-gun salute is carried out for National Day Parades in Singapore by the Singapore Artillery during the presidential inspection of parade contingents.\\nThe 21-gun salute was given to the former prime minister and founding leader Lee Kuan Yew during his state funeral.\\n\\n\\n=== Sweden ===\\n\\n21-gun salutes mark special royal occasions throughout Sweden, referred to as a Kunglig Salut (Royal Salute). The number of rounds fired in a salute depends on the place and occasion. The basic salute is 21 rounds. However, when a birth takes place within the Royal House of Sweden, and the child is the firstborn to either the reigning monarch or to the heir to the throne, an extra 21 rounds (for a total of 42) are added to the normal salute. In all other births 21 rounds are fired.\\nGun salutes occur on:\\n28 January - Name day of HM the King\\n30 April - Birthday of HM the King\\n6 June - National day of Sweden\\n14 July - Birthday of HRH Crown Princess Victoria\\n8 August - Name day of HM the Queen\\n23 December - Birthday of HM the Queen\\nGun salutes also occur at royal weddings, royal births, royal deaths and when a foreign head of state arrives on a state visit in Stockholm.\\nMilitary saluting stations are Skeppsholmen and Kastellholmen in Stockholm, Fortress of Kungshall in Karlskrona, Battery of Fårösund on the island of Gotland, Boden Fortress in Boden, Battery of Kusthöjden in Härnösand, Vaxholm Castle in Vaxholm, Skansen Lejonet Fortress and Älvsborg Castle in Gothenburg.\\n19-gun salutes are used for heads of government, cabinet ministers and ambassadors.\\nThe Swedish Armed Forces also use a gun salute consisting of two rapid gunshots. This salute, called Svensk Lösen (Swedish signal), was fired whenever a Swedish ship would enter a harbour in order to identify the ship as Swedish, or on the field of battle to identify the Swedish troops. Sometimes a double signal was fired, i.e. four gunshots fired two and two, hence the Swedish tradition of a fourfold cheer instead of a threefold. This signal is today fired on special occasions, usually within the military.\\n\\n\\n=== United Kingdom ===\\n21-gun salutes mark special royal occasions throughout the United Kingdom and the Commonwealth, referred to as a \"Royal Salute\" (in the British Empire it was reserved, mainly among colonial princely states, for the most prestigious category of native rulers of so-called salute states), unless rendered to the president or flag of a republic; nonetheless salutes rendered to all heads of state regardless of title are casually referred to as \"royal\" salutes.\\n\\nThe number of rounds fired in a salute depends on the place and occasion. The basic salute is 21 rounds. In Hyde Park and Green Park an extra 20 rounds are added because they are Royal Parks. At the Tower of London 62 rounds are fired on royal anniversaries (the basic 21, plus a further 20 because the Tower is a Royal Palace and Fortress, plus another 21 \\'for the City of London\\') and 41 on other occasions. The Tower of London probably holds the record for the most rounds fired in a single salute — 124 are fired whenever the Duke of Edinburgh\\'s birthday (62 rounds) coincides with the Saturday designated as the Queen\\'s official birthday (also 62 rounds).\\n\\nGun salutes occur on:\\nAccession Day (6 February)\\nThe Queen\\'s actual birthday (21 April)\\nCoronation Day (the anniversary of The Queen\\'s Coronation, 2 June)\\nThe birthday of Prince Philip, Duke of Edinburgh (10 June)\\nThe Queen\\'s official birthday (the first, second, or third Saturday in June)\\nThe birthday of Charles, Prince of Wales (14 November)\\nThe morning of bonfire night to symbolise Guy Fawkes being found under the houses of parliament. (5 November)\\nGun salutes also occur when Parliament is prorogued by the Queen, on royal births and when a visiting head of state meets the Queen in London, Windsor or Edinburgh. A Royal Salute of 21 Guns is fired at Edinburgh Castle in honour of The Queen or Her Personal Representative, the High Commissioner (female) or Lord High Commissioner (male), when processing in state to the Opening of the General Assembly of the Church of Scotland which occurs annually in May. The significance of the 21 Gun Salute is that the Lord High Commissioner is representing the Sovereign as Head of State.\\n\\nAuthorized military saluting stations are:\\nin England:\\nHyde Park, London\\nThe Tower of London\\nRoyal Arsenal, Woolwich\\nYork Museum Gardens\\nColchester\\nRoyal Artillery Barracks, Larkhill\\nRoyal Citadel, Plymouth\\nDover Castle\\nFort Blockhouse, Gosport\\nin Scotland:\\nEdinburgh Castle\\nStirling Castle\\nin Wales:\\nCardiff\\nin Northern Ireland:\\nHillsborough Castle\\nSalutes are also fired in Gibraltar.\\nIn London, salutes are fired from Hyde Park and the Tower of London; on State Visits, at the State Opening of Parliament and for Trooping the Colour, Green Park is used instead of Hyde Park. In Hyde Park, the salute is fired by the King\\'s Troop, Royal Horse Artillery. The first round is fired at noon (11am on The Queen\\'s official birthday). At the Tower of London, the salute is fired by the Honourable Artillery Company at 1pm.\\nSalutes in Northern Ireland are usually fired from Hillsborough Castle by 206 (Ulster) Battery, although recently they have also been fired from HMS Caroline in Belfast Harbour.\\n19-gun salutes are used for Field Marshals, ambassadors, and the heads of executive branch of Parliamentary governments (i.e. Prime Ministers).\\nAt 6am annually, in the market town of Lewes, a mortar is fired from the battlements to mark when Guy Fawkes was found and marks the start of Bonfire Night. The mortar is traditionally followed by the sound fire crackers and bangers being let off throughout the town.\\n\\n\\n=== United States ===\\nBeginning in the colonial period, the United States fired one shot for each state in the Union as its national salute.\\nOn 16 November 1776, the West Indian port of St. Eustatius returned a 9-gun salute for the 13-gun salute given by the American brigantine Andrew Doria. At the time, nine guns was the customary salute to an independent republic. This First Salute was specifically ordered by the Dutch governor of the island, and marks the first formal international recognition of the United States as an independent republic. The flag flown by the Andrew Doria was the Grand Union Flag, 13 alternating red and white stripes with the British Flag in the union. The Stars and Stripes received its first salute when John Paul Jones saluted France with 13 guns at Quiberon Bay in 1778 (the Stars and Stripes was not adopted as the national flag until 14 June 1777).\\nThe practice of firing one gun for each state in the union was not officially authorized until 1810, when the United States Department of War declared the number of rounds fired in the \"National Salute\" to be equivalent to the number of states—which, at the time was 17. The tradition continued until 1841 when it was reduced from 26 to 21.\\n\\nIn 1842, the United States declared the 21-gun salute as its \"Presidential Salute\". While the \"National Salute\" had been formally established as the 21-gun salute, the current tradition holds the salute on Independence Day to be a 50 rounds—one round for each state in the union. This \\'Salute to the Nation\\' is fired at noon on 4 July, on U.S. military installations, while the U.S. Navy full-dresses ships and fires 21 guns at noon on 4 July, as well as on Presidents\\' Day.\\nIn April 1914, during the Mexican Revolution, the Tampico Affair occurred, and escalated as a result of a twenty-one gun salute(or more specifically, the lack of one). Nine unarmed American sailors were arrested in Tampico, Tamaulipas, Mexico, for entering an off-limit area at a fuel loading station. Despite being released, the US Naval commander demanded an apology and a twenty-one gun salute. The apology was provided, but not the salute, giving President Woodrow Wilson reason to order the American occupation of the port of Veracruz. Due to an arms embargo from the United States, issued to try to lessen the bloodshed of the revolution at its border, Mexico was forced to seek arms from European, and to a lesser extent Asian countries. During the occupation, a large German arms shipment aboard the SS Ypiranga was illegally seized, before being released and turned away by the American occupation force. These events ultimately drove a wedge between Mexican-American and German-American relations, and after the start of World War I on 28 July 1914, would cause Germany to seek to influence Mexico into declaring war on the United States, in order to halt American arms shipments to the Allies, and attempt to prevent the then isolationist United States from joining the Allies. This effort ultimately backfired, after culminating in the sending of the Zimmerman Telegram from Germany to Mexico, which urged Mexico to declare war on America, promising support and the return of much of the territory lost during the Mexican-American War, which, after being intercepted, caused America to enter the war on the side of the Allies on 6 April 1917, and due in large part to the arrival of fresh American troops into the war, largely a stalemate in its first years, would lead to the surrender of Germany on 11 November 1918, after helping to overpower the German Army, already fatigued from a long and costly war.\\nOn Memorial Day, batteries on military installations fire a 21-gun salute to the nation\\'s fallen. As well, batteries at Naval stations and on ships, fire a salute of 21-minute guns and display the ensign at half-mast from 8 a.m. until completion of the salute.\\nToday, a 21-gun salute is rendered on the arrival and departure of the President of the United States; it is fired in concordance with four ruffles and flourishes, which are immediately followed by \"Hail to the Chief\"—the actual gun salute begins with the first ruffle and flourish, and \\'run long\\' (i.e. the salute concludes after \"Hail to the Chief\" has ended). A 21-gun salute is also rendered to former U.S. Presidents, foreign Heads of State (or members of a reigning royal family), as well as to Presidents-elect. In such a ceremony, the national anthem of the visiting dignitary\\'s country is played, following the salute.\\nIn accordance with the ceremonial standard operating procedure (SOP) of the 3rd US Infantry (The Old Guard) the various gun salutes are assigned as follows: each round in a given salute is fired one at a time. The number of cannon used in a battery depends upon the intervals between each round fired. This includes, for example, a three-gun battery firing two of its guns with five-second intervals between rounds and one gun remaining at the ready in case of a misfire; such a battery would be used at an Armed Forces Full Honors Funeral, or for State Arrival Ceremony of a foreign dignitary at the Tomb of the Unknowns in Arlington National Cemetery. A four-gun battery has its first three guns firing rounds at three-second intervals, with the fourth gun (again) at the ready in case of misfire.\\nThe SOP also provides each gun salute a two-man gun crew (one loader, one gunner) for each cannon, as well as a five-man \"staff\" of soldiers to give the fire commands. The staff includes an Officer in Charge, a watchman (who marks the intervals and signals each gun to fire), an assistant watchman (as a backup), a counter (who keeps track of the number of rounds fired and signals the last round to the Officer in Charge), and a Non-Commissioned Officer in Charge (who marches the battery into place as well as signals the backup cannon to fire in case another gun misfires).\\nNaval vessels now have saluting guns installed which are used solely for such purpose.\\nNineteen-gun salutes are reserved for the Vice President of the United States, foreign deputy heads of state, cabinet members, Speaker of the House of Representatives, President pro tempore of the Senate, Chief Justice of the United States, state Governors, foreign heads of government (such as Prime Ministers), chiefs of staff and general officers in the U.S. military of five-star rank. For each flag rank junior to a five-star officer, two guns are subtracted (e.g., for a four-star admiral, a 17-gun salute is prescribed; a three-star general would rate a 15-gun salute; a two-star, 13 guns, and a one-star, 11 guns).\\nA gun salute is not to be confused with the three-volley salute often rendered at military funerals.\\nThe gun salutes fired in the United States are as follows:\\n\\n\\n==== Deaths of presidents ====\\n\\nA U.S. presidential death also involves 21-gun salutes and other military traditions. On the day after the death of the president, a former president or president-elect—unless this day falls on a Sunday or holiday, in which case the honor will be rendered the following day—the commanders of Army installations with the necessary personnel and material traditionally order that one gun be fired every half-hour, beginning at reveille and ending at retreat.\\nOn the day of burial, a 21-minute gun salute traditionally is fired starting at noon at all military installations with the necessary personnel and material. Guns will be fired at one-minute intervals. Also on the day of burial, those installations will fire a 50-gun salute—one round for each state—at five-second intervals immediately following lowering of the flag.\\n\\n\\n=== Venezuela ===\\nA 21-gun salute by an artillery battalion from either the Venezuelan Army or the Venezuelan Marine Corps is fired on the folllowing dates:\\nOn the inauguration of a new President\\nState funerals of former Presidents\\n15 January, for the State of the Nation Address\\n24 June, Army Day\\n5 July, Independence Day\\n24 July, Navy Day\\n27 November, Air Force Day\\n\\n\\n== Media ==\\n\\n\\n== Cultural references ==\\nThe title of the Green Day song \"21 Guns\" is a reference to a 21-gun salute.\\nIn the song \"For Those About to Rock (We Salute You)\" by AC/DC 21-gun salutes are mentioned.\\nThe song \"Move Now\" by Nonpoint also includes a reference.\\nIn the film Chitty Chitty Bang Bang, when the Grandfather sings \"Posh\" whilst dangling from a hot air balloon, there is a line \"they 21 gun salute me\".\\nBoston-based Celtic punk band Dropkick Murphys recorded the song \"21 Guitar Salute\" (originally by The Press) on their 2002 split EP Face to Face vs. Dropkick Murphys.\\nThe 21-gun salute are also mentioned in the song \"Methods to your Madness\" by heavy metal band Metal Church.\\nAnother mention is in the Clutch song \"The Mob Goes Wild\".\\nBritish Grime artist Stormzy included a song titled \"21 Gun Salute\" on his debut album Gang Signs & Prayer.\\nThe 2000 U.S. Open Golf Championship, held at the famed Pebble Beach Golf Links, saw a unique twist on the 21-gun salute. The tournament\\'s defending champion, Payne Stewart, had died in a plane crash the previous October. Before the tournament began, a ceremony was held in Stewart\\'s memory in which 21 golfers lined up on the 18th fairway and hit drives into the Pacific Ocean.\\n\\n\\n== See also ==\\nCelebratory gunfire\\nNear-shore salute - custom of bringing a ship close to shore to \"salute\" those on land\\nThree-volley salute\\nTen-bell salute\\n\\n\\n== References ==\\n\\n\\n== External links ==\\nNavy Regulations, 1990, Ch 12, Flags, Pennants, Honors, Ceremonies and Customs\\nAR 600-25 Salutes, Honors, and Visits of Courtesy\\nOrigins of the 21-gun salute at the United States Army Center of Military History\\nThe 21-Gun International Salute\\nRoyalArk- India - salute states\\nUrban Legend re: Sum of Digits of 1776\\nHonours and salutes - Department of Canadian Heritage'"
      ]
     },
     "execution_count": 153,
     "metadata": {},
     "output_type": "execute_result"
    }
   ],
   "source": [
    "wiki_corpus[0].decode(\"utf-8\")"
   ]
  },
  {
   "cell_type": "code",
   "execution_count": 135,
   "metadata": {},
   "outputs": [],
   "source": [
    "wiki_NMF_model = get_text_model('wiki', 'NMF', 'CountVectorizer')"
   ]
  },
  {
   "cell_type": "code",
   "execution_count": 130,
   "metadata": {},
   "outputs": [],
   "source": [
    "x = nips_model['model'].transform(vectorize_text(['this is a test', 'raining cats and dogs'], vocabulary=nips_model['vocab']))\n",
    "\n",
    "\n"
   ]
  },
  {
   "cell_type": "code",
   "execution_count": 132,
   "metadata": {},
   "outputs": [
    {
     "data": {
      "text/plain": [
       "array([[0.01 , 0.01 , 0.01 , 0.01 , 0.01 , 0.01 , 0.01 , 0.01 , 0.01 ,\n",
       "        0.01 , 0.01 , 0.01 , 0.01 , 0.01 , 0.01 , 0.01 , 0.01 , 0.01 ,\n",
       "        0.01 , 0.01 , 0.01 , 0.01 , 0.01 , 0.01 , 0.01 , 0.01 , 0.01 ,\n",
       "        0.01 , 0.01 , 0.01 , 0.01 , 0.01 , 0.01 , 0.01 , 0.01 , 0.01 ,\n",
       "        0.01 , 0.01 , 0.01 , 0.01 , 0.01 , 0.01 , 0.01 , 0.01 , 0.01 ,\n",
       "        0.01 , 0.01 , 0.01 , 0.01 , 0.51 ],\n",
       "       [0.005, 0.005, 0.005, 0.005, 0.005, 0.005, 0.005, 0.005, 0.005,\n",
       "        0.005, 0.005, 0.005, 0.005, 0.005, 0.005, 0.755, 0.005, 0.005,\n",
       "        0.005, 0.005, 0.005, 0.005, 0.005, 0.005, 0.005, 0.005, 0.005,\n",
       "        0.005, 0.005, 0.005, 0.005, 0.005, 0.005, 0.005, 0.005, 0.005,\n",
       "        0.005, 0.005, 0.005, 0.005, 0.005, 0.005, 0.005, 0.005, 0.005,\n",
       "        0.005, 0.005, 0.005, 0.005, 0.005]])"
      ]
     },
     "execution_count": 132,
     "metadata": {},
     "output_type": "execute_result"
    }
   ],
   "source": [
    "x"
   ]
  },
  {
   "cell_type": "code",
   "execution_count": null,
   "metadata": {},
   "outputs": [],
   "source": [
    "vectorizer = CountVectorizer\n",
    "text2vec = vectorizer(max_df=eval(defaults['text']['max_df']),\n",
    "                      min_df=eval(defaults['text']['min_df']),\n",
    "                      stop_words=defaults['text']['stop_words'],\n",
    "                      strip_accents=defaults['text']['strip_accents'],\n",
    "                      lowercase=eval(defaults['text']['lowercase']))"
   ]
  },
  {
   "cell_type": "code",
   "execution_count": null,
   "metadata": {},
   "outputs": [],
   "source": [
    "sotus = get_corpus('sotus')"
   ]
  },
  {
   "cell_type": "code",
   "execution_count": null,
   "metadata": {},
   "outputs": [],
   "source": [
    "vectorized_corpus = text2vec.fit_transform(get_corpus('sotus'))"
   ]
  },
  {
   "cell_type": "code",
   "execution_count": 123,
   "metadata": {},
   "outputs": [],
   "source": [
    "def text_vectorizer(text, model='universal_sentence_encoder', **kwargs):\n",
    "    def universal_sentence_encoder(text, **kwargs):        \n",
    "        if 'USE_corpus' in kwargs.keys():\n",
    "            corpus = kwargs['USE_corpus']\n",
    "        else:\n",
    "            corpus = defaults['text']['USE_corpus']\n",
    "            #if not os.path.exists(corpus):\n",
    "            #    os.system(f\"'https://tfhub.dev/google/universal-sentence-encoder-large/3?tf-hub-format=compressed' | tar -zxvC {defaults['text']['USE_corpus']}\")\n",
    "        \n",
    "        assert os.path.exists(corpus), f'Corpus not found: {corpus}'\n",
    "\n",
    "        encoder = hub.Module(corpus)\n",
    "\n",
    "        tf.logging.set_verbosity(tf.logging.ERROR)\n",
    "        with tf.Session() as session:\n",
    "            session.run([tf.global_variables_initializer(), tf.tables_initializer()])        \n",
    "            return session.run(encoder(text))\n",
    "    \n",
    "    def sklearn_vectorizer(text, model, **kwargs):                \n",
    "        if 'corpus' in kwargs.keys():\n",
    "            corpus = kwargs['corpus']\n",
    "        else:\n",
    "            corpus = defaults['text']['corpus']            \n",
    "        \n",
    "        assert (corpus in corpora) or is_text(corpus) or os.path.exists(corpus), f'Cannot use corpus: {corpus}'\n",
    "        \n",
    "        if 'vectorizer' in kwargs.keys():\n",
    "            vecterizer = kwargs['vectorizer']\n",
    "            kwargs.pop('vectorizer', None)\n",
    "        else:\n",
    "            vectorizer = defaults['text']['vectorizer']\n",
    "        \n",
    "        model = get_text_model(corpus, model, vectorizer)\n",
    "        return model['model'].transform(vectorize_text(text, vectorizer=vectorizer, vocabulary=model['vocab']))\n",
    "    \n",
    "    assert (model in text_models) or (callable(model)), f'Unsupported model: {model}'\n",
    "    if not (type(text) == list):\n",
    "        text = [text]\n",
    "    \n",
    "    if callable(model):\n",
    "        return model(text, **kwargs)\n",
    "    elif model == 'universal_sentence_encoder':\n",
    "        return universal_sentence_encoder(text, **kwargs)\n",
    "    else:\n",
    "        return sklearn_vectorizer(text, model, **kwargs)\n",
    "    "
   ]
  },
  {
   "cell_type": "code",
   "execution_count": 127,
   "metadata": {},
   "outputs": [
    {
     "ename": "AssertionError",
     "evalue": "Must vectorize a string or list of strings (given: <class 'list'>)",
     "output_type": "error",
     "traceback": [
      "\u001b[0;31m---------------------------------------------------------------------------\u001b[0m",
      "\u001b[0;31mAssertionError\u001b[0m                            Traceback (most recent call last)",
      "\u001b[0;32m<ipython-input-127-eb78888eb5c4>\u001b[0m in \u001b[0;36m<module>\u001b[0;34m\u001b[0m\n\u001b[0;32m----> 1\u001b[0;31m \u001b[0mtext_vectorizer\u001b[0m\u001b[0;34m(\u001b[0m\u001b[0;34m'happy birthday'\u001b[0m\u001b[0;34m,\u001b[0m \u001b[0;34m'NMF'\u001b[0m\u001b[0;34m)\u001b[0m\u001b[0;34m\u001b[0m\u001b[0m\n\u001b[0m",
      "\u001b[0;32m<ipython-input-123-6b3669fd020a>\u001b[0m in \u001b[0;36mtext_vectorizer\u001b[0;34m(text, model, **kwargs)\u001b[0m\n\u001b[1;32m     43\u001b[0m         \u001b[0;32mreturn\u001b[0m \u001b[0muniversal_sentence_encoder\u001b[0m\u001b[0;34m(\u001b[0m\u001b[0mtext\u001b[0m\u001b[0;34m,\u001b[0m \u001b[0;34m**\u001b[0m\u001b[0mkwargs\u001b[0m\u001b[0;34m)\u001b[0m\u001b[0;34m\u001b[0m\u001b[0m\n\u001b[1;32m     44\u001b[0m     \u001b[0;32melse\u001b[0m\u001b[0;34m:\u001b[0m\u001b[0;34m\u001b[0m\u001b[0m\n\u001b[0;32m---> 45\u001b[0;31m         \u001b[0;32mreturn\u001b[0m \u001b[0msklearn_vectorizer\u001b[0m\u001b[0;34m(\u001b[0m\u001b[0mtext\u001b[0m\u001b[0;34m,\u001b[0m \u001b[0mmodel\u001b[0m\u001b[0;34m,\u001b[0m \u001b[0;34m**\u001b[0m\u001b[0mkwargs\u001b[0m\u001b[0;34m)\u001b[0m\u001b[0;34m\u001b[0m\u001b[0m\n\u001b[0m\u001b[1;32m     46\u001b[0m \u001b[0;34m\u001b[0m\u001b[0m\n",
      "\u001b[0;32m<ipython-input-123-6b3669fd020a>\u001b[0m in \u001b[0;36msklearn_vectorizer\u001b[0;34m(text, model, **kwargs)\u001b[0m\n\u001b[1;32m     31\u001b[0m             \u001b[0mvectorizer\u001b[0m \u001b[0;34m=\u001b[0m \u001b[0mdefaults\u001b[0m\u001b[0;34m[\u001b[0m\u001b[0;34m'text'\u001b[0m\u001b[0;34m]\u001b[0m\u001b[0;34m[\u001b[0m\u001b[0;34m'vectorizer'\u001b[0m\u001b[0;34m]\u001b[0m\u001b[0;34m\u001b[0m\u001b[0m\n\u001b[1;32m     32\u001b[0m \u001b[0;34m\u001b[0m\u001b[0m\n\u001b[0;32m---> 33\u001b[0;31m         \u001b[0mmodel\u001b[0m \u001b[0;34m=\u001b[0m \u001b[0mget_text_model\u001b[0m\u001b[0;34m(\u001b[0m\u001b[0mcorpus\u001b[0m\u001b[0;34m,\u001b[0m \u001b[0mmodel\u001b[0m\u001b[0;34m,\u001b[0m \u001b[0mvectorizer\u001b[0m\u001b[0;34m)\u001b[0m\u001b[0;34m\u001b[0m\u001b[0m\n\u001b[0m\u001b[1;32m     34\u001b[0m         \u001b[0;32mreturn\u001b[0m \u001b[0mmodel\u001b[0m\u001b[0;34m[\u001b[0m\u001b[0;34m'model'\u001b[0m\u001b[0;34m]\u001b[0m\u001b[0;34m.\u001b[0m\u001b[0mtransform\u001b[0m\u001b[0;34m(\u001b[0m\u001b[0mvectorize_text\u001b[0m\u001b[0;34m(\u001b[0m\u001b[0mtext\u001b[0m\u001b[0;34m,\u001b[0m \u001b[0mvectorizer\u001b[0m\u001b[0;34m=\u001b[0m\u001b[0mvectorizer\u001b[0m\u001b[0;34m,\u001b[0m \u001b[0mvocabulary\u001b[0m\u001b[0;34m=\u001b[0m\u001b[0mmodel\u001b[0m\u001b[0;34m[\u001b[0m\u001b[0;34m'vocab'\u001b[0m\u001b[0;34m]\u001b[0m\u001b[0;34m)\u001b[0m\u001b[0;34m)\u001b[0m\u001b[0;34m\u001b[0m\u001b[0m\n\u001b[1;32m     35\u001b[0m \u001b[0;34m\u001b[0m\u001b[0m\n",
      "\u001b[0;32m<ipython-input-82-264be6af42f6>\u001b[0m in \u001b[0;36mget_text_model\u001b[0;34m(corpus, model, vectorizer, n_components)\u001b[0m\n\u001b[1;32m     27\u001b[0m     \u001b[0;32melse\u001b[0m\u001b[0;34m:\u001b[0m\u001b[0;34m\u001b[0m\u001b[0m\n\u001b[1;32m     28\u001b[0m         \u001b[0mcorpus\u001b[0m \u001b[0;34m=\u001b[0m \u001b[0mget_corpus\u001b[0m\u001b[0;34m(\u001b[0m\u001b[0mcorpus\u001b[0m\u001b[0;34m)\u001b[0m\u001b[0;34m\u001b[0m\u001b[0m\n\u001b[0;32m---> 29\u001b[0;31m         \u001b[0mvectorized_corpus\u001b[0m\u001b[0;34m,\u001b[0m \u001b[0mvocab\u001b[0m \u001b[0;34m=\u001b[0m \u001b[0mvectorize_text\u001b[0m\u001b[0;34m(\u001b[0m\u001b[0mcorpus\u001b[0m\u001b[0;34m,\u001b[0m \u001b[0mvectorizer\u001b[0m\u001b[0;34m=\u001b[0m\u001b[0mvectorizer\u001b[0m\u001b[0;34m,\u001b[0m \u001b[0mreturn_vocab\u001b[0m\u001b[0;34m=\u001b[0m\u001b[0;32mTrue\u001b[0m\u001b[0;34m)\u001b[0m\u001b[0;34m\u001b[0m\u001b[0m\n\u001b[0m\u001b[1;32m     30\u001b[0m \u001b[0;34m\u001b[0m\u001b[0m\n\u001b[1;32m     31\u001b[0m         \u001b[0;32mif\u001b[0m \u001b[0mn_components\u001b[0m \u001b[0;34m==\u001b[0m \u001b[0;32mNone\u001b[0m\u001b[0;34m:\u001b[0m\u001b[0;34m\u001b[0m\u001b[0m\n",
      "\u001b[0;32m<ipython-input-47-971128869dcc>\u001b[0m in \u001b[0;36mvectorize_text\u001b[0;34m(text, vectorizer, vocabulary, return_vocab)\u001b[0m\n\u001b[1;32m      2\u001b[0m     \u001b[0;32mif\u001b[0m \u001b[0;32mnot\u001b[0m \u001b[0;34m(\u001b[0m\u001b[0mtype\u001b[0m\u001b[0;34m(\u001b[0m\u001b[0mtext\u001b[0m\u001b[0;34m)\u001b[0m \u001b[0;34m==\u001b[0m \u001b[0mlist\u001b[0m\u001b[0;34m)\u001b[0m\u001b[0;34m:\u001b[0m\u001b[0;34m\u001b[0m\u001b[0m\n\u001b[1;32m      3\u001b[0m         \u001b[0mtext\u001b[0m \u001b[0;34m=\u001b[0m \u001b[0;34m[\u001b[0m\u001b[0mtext\u001b[0m\u001b[0;34m]\u001b[0m\u001b[0;34m\u001b[0m\u001b[0m\n\u001b[0;32m----> 4\u001b[0;31m     \u001b[0;32massert\u001b[0m \u001b[0mis_text\u001b[0m\u001b[0;34m(\u001b[0m\u001b[0mtext\u001b[0m\u001b[0;34m)\u001b[0m\u001b[0;34m,\u001b[0m \u001b[0;34mf'Must vectorize a string or list of strings (given: {type(text)})'\u001b[0m\u001b[0;34m\u001b[0m\u001b[0m\n\u001b[0m\u001b[1;32m      5\u001b[0m \u001b[0;34m\u001b[0m\u001b[0m\n\u001b[1;32m      6\u001b[0m     \u001b[0;32mif\u001b[0m \u001b[0mtype\u001b[0m\u001b[0;34m(\u001b[0m\u001b[0mvectorizer\u001b[0m\u001b[0;34m)\u001b[0m \u001b[0;32min\u001b[0m \u001b[0msix\u001b[0m\u001b[0;34m.\u001b[0m\u001b[0mstring_types\u001b[0m\u001b[0;34m:\u001b[0m\u001b[0;34m\u001b[0m\u001b[0m\n",
      "\u001b[0;31mAssertionError\u001b[0m: Must vectorize a string or list of strings (given: <class 'list'>)"
     ]
    }
   ],
   "source": [
    "text_vectorizer('happy birthday', 'NMF')"
   ]
  },
  {
   "cell_type": "code",
   "execution_count": null,
   "metadata": {},
   "outputs": [],
   "source": [
    "import seaborn as sns"
   ]
  },
  {
   "cell_type": "code",
   "execution_count": null,
   "metadata": {},
   "outputs": [],
   "source": [
    "sns.heatmap(vectorized_corpus.toarray())"
   ]
  },
  {
   "cell_type": "code",
   "execution_count": null,
   "metadata": {},
   "outputs": [],
   "source": [
    "sns.heatmap(vectorized_corpus.toarray())"
   ]
  },
  {
   "cell_type": "code",
   "execution_count": null,
   "metadata": {},
   "outputs": [],
   "source": [
    "corpus = get_corpus('wiki')"
   ]
  },
  {
   "cell_type": "code",
   "execution_count": null,
   "metadata": {},
   "outputs": [],
   "source": [
    "counts = CountVectorizer(stop_words='en')"
   ]
  },
  {
   "cell_type": "code",
   "execution_count": null,
   "metadata": {},
   "outputs": [],
   "source": [
    "counts"
   ]
  },
  {
   "cell_type": "code",
   "execution_count": null,
   "metadata": {},
   "outputs": [],
   "source": [
    "n_features = 1000\n",
    "tf_vectorizer = CountVectorizer(max_df=0.95, min_df=2, max_features=n_features, stop_words='english')\n",
    "tf = tf_vectorizer.fit_transform(tweet_text)    \n",
    "vocab = tf_vectorizer.get_feature_names()\n",
    "\n",
    "if model == None:\n",
    "    lda = LDA(n_topics=n_topics, max_iter=5, learning_method='online', learning_offset=50., random_state=0).fit(tf)\n",
    "else:\n",
    "    lda = model            \n",
    "tweet_topics = lda.fit(tf)"
   ]
  },
  {
   "cell_type": "code",
   "execution_count": null,
   "metadata": {},
   "outputs": [],
   "source": [
    "def panda_stack(data, force=True, names=None, keys=None, verify_integrity=False, sort=False, copy=True, ignore_index=False, levels=None, **kwargs):\n",
    "    '''\n",
    "    Take a list of DataFrames with the same number of columns and (optionally)\n",
    "    a list of names (of the same length as the original list; default:\n",
    "    range(len(x))).  Return a single MultiIndex DataFrame where the original\n",
    "    DataFrames are stacked vertically, with the data names as their level 1\n",
    "    indices and their original indices as their level 2 indices.\n",
    "    \n",
    "    INPUTS\n",
    "    data: data in any format (text, numpy arrays, pandas dataframes, or a mixed list (or nested lists) of those types)\n",
    "    text_vectorizer: function that takes a string (or list of strings) and returns a numpy array or dataframe.  If\n",
    "    force is False, must pass in a list of DataFrames.\n",
    "    \n",
    "    force: if True, use format_data to coerce everything into a list of pandas dataframes.\n",
    "    \n",
    "    text_vectorizer: function for turning text data into DataFrames, used if force is True\n",
    "    \n",
    "    Also takes all keyword arguments from pandas.concat except axis, join, join_axes\n",
    "    \n",
    "    All other keywork arguments (if any) are passed to text_vectorizer\n",
    "    \n",
    "    OUTPUTS\n",
    "    a single MultiIndex DataFrame\n",
    "    '''\n",
    "    \n",
    "    if force:\n",
    "        data = format_data(data, **kwargs)\n",
    "    \n",
    "    assert type(data) == list, 'Must either pass a list of DataFrames or set force to True'\n",
    "    assert np.all([is_dataframe(d) for d in data]), 'Must either pass a list of DataFrames or set force to True'\n",
    "    assert len(np.unique([d.shape[1] for d in data])) == 1, 'All DataFrames must have the same number of columns'    \n",
    "    template = data[0].columns.values\n",
    "    for i, d1 in enumerate(data):\n",
    "        template = d1.columns.values\n",
    "        for d2 in data[(i+1):]:\n",
    "            assert np.all([(c in template) for c in d2.columns.values]), 'All DataFrames must have the same columns'\n",
    "    \n",
    "    if keys is None:\n",
    "        keys = np.arange(len(data), dtype=np.int)\n",
    "    \n",
    "    assert is_array(keys) or (type(keys) == list), f'keys must be None or a list or array of length len(data)'\n",
    "    assert len(keys) == len(data), f'keys must be None or a list or array of length len(data)'\n",
    "    \n",
    "    return pd.concat(data, axis=0, join='outer', join_axes=None, names=names, keys=keys, \n",
    "                     verify_integrity=verify_integrity, sort=sort, copy=copy, ignore_index=ignore_index, levels=levels)"
   ]
  },
  {
   "cell_type": "code",
   "execution_count": null,
   "metadata": {},
   "outputs": [],
   "source": [
    "def panda_unstack(x):\n",
    "    if not is_multiindex_dataframe(x):\n",
    "        if is_dataframe(x):\n",
    "            return x\n",
    "        else:\n",
    "            raise Exception(f'Unsupported datatype: {type(x)}')\n",
    "    \n",
    "    names = list(x.index.names)\n",
    "    grouper = 'ID'\n",
    "    if not (grouper in names):\n",
    "        names[0] = grouper\n",
    "    elif not (names[0] == grouper):\n",
    "        for i in np.arange(len(names)): #trying n things other than 'ID'; at least one of them must be outside of the n-1 remaining names\n",
    "            next_grouper = f'{grouper}{i}'\n",
    "            if not (next_grouper in names):\n",
    "                names[0] = next_grouper\n",
    "                grouper = next_grouper\n",
    "                break\n",
    "    assert names[0] == grouper, 'Unstacking error'\n",
    "    \n",
    "    x.index.rename(names, inplace=True)    \n",
    "    unstacked = [d[1].set_index(d[1].index.get_level_values(1)) for d in list(x.groupby(grouper))]\n",
    "    if len(unstacked) == 1:\n",
    "        return unstacked[0]\n",
    "    else:\n",
    "        return unstacked"
   ]
  },
  {
   "cell_type": "code",
   "execution_count": null,
   "metadata": {},
   "outputs": [],
   "source": [
    "def format_data(x, **kwargs):\n",
    "    '''\n",
    "    INPUTS\n",
    "    x: data in any format (text, numpy arrays, pandas dataframes, or a mixed list (or nested lists) of those types)\n",
    "    text_vectorizer: function that takes a string (or list of strings) and returns a numpy array or dataframe\n",
    "    text_kwargs: dictionary of keywork arguments to pass to text_vectorizer\n",
    "    \n",
    "    OUTPUTS\n",
    "    a list of pandas dataframes\n",
    "    '''\n",
    "    \n",
    "    def to_dataframe(y):\n",
    "        if is_dataframe(y):\n",
    "            return y\n",
    "        elif is_array(y):\n",
    "            assert np.ndim(y) == 2, 'all data matrices must be 2-dimensional'\n",
    "            idx = np.arange(y.shape[0])\n",
    "            cols = np.arange(y.shape[1])\n",
    "            return pd.DataFrame(data=y, index=idx, columns=cols)\n",
    "        elif type(y) == list:\n",
    "            return [to_dataframe(i) for i in y]\n",
    "        elif is_text(y):\n",
    "            if 'text_model' in kwargs.keys():\n",
    "                text_model = kwargs['text_model']\n",
    "            else:\n",
    "                text_model = defaults['text']['model']\n",
    "                \n",
    "            if 'text_kwargs' in kwargs.keys():\n",
    "                text_kwargs = kwargs['text_kwargs']\n",
    "            else:\n",
    "                text_kwargs = {}\n",
    "            return to_dataframe(text_vectorizer(y, model=text_model, **text_kwargs))\n",
    "        else:\n",
    "            raise NotImplementedError(f'Unsupported data type: {type(y)}')\n",
    "    \n",
    "    if type(x) == list:\n",
    "        return [to_dataframe(i) for i in x]\n",
    "    else:\n",
    "        return [to_dataframe(x)]"
   ]
  },
  {
   "cell_type": "code",
   "execution_count": null,
   "metadata": {},
   "outputs": [],
   "source": [
    "def fill_missing(x, apply_ppca=True, interpolation='linear', **kwargs):\n",
    "    if type(x) == list:\n",
    "        return [fill_missing(i, apply_ppca=apply_ppca, interpolation=interpolation, **kwargs) for i in x]\n",
    "    elif is_array(x):\n",
    "        return fill_missing(pd.DataFrame(x), apply_ppca=apply_ppca, interpolation=interpolation, **kwargs).values\n",
    "    elif not is_dataframe(x):\n",
    "        raise Exception('Unsupported datatype: f{type(x)}')\n",
    "    \n",
    "    if 'method' in interpolate_kwargs.keys():\n",
    "        warnings.warn(f\"Overloaded keyword argument; ignoring interpolation parameter ({interpolation}) in favor of keyword-specified method: {interpolate_kwargs['method']}\")\n",
    "    else:\n",
    "        interpolate_kwargs['method'] = interpolation\n",
    "    \n",
    "    assert interpolate_kwargs['method'] in interpolation_models, f\"Unsupported interpolation type: '{interpolate_kwargs['method']}'\"\n",
    "    \n",
    "    if apply_ppca:\n",
    "        covariance_model = PPCA()\n",
    "        covariance_model.fit(x.values)\n",
    "        x.values = covariance_model.transform()\n",
    "    \n",
    "    if not ('inplace' in kwargs.keys()):\n",
    "        kwargs['inplace'] = False\n",
    "    \n",
    "    if not ('axis' in kwargs.keys()):\n",
    "        kwargs['axis'] = 0\n",
    "        \n",
    "    if 'method' in kwargs.keys():\n",
    "        warnings.warn(f\"Overloaded keyword argument; ignoring interpolation parameter ({interpolation}) in favor of keyword-specified method: {kwargs['method']}\")\n",
    "    else:\n",
    "        kwargs['method'] = interpolation\n",
    "    \n",
    "    return x.interpolate(**kwargs)"
   ]
  },
  {
   "cell_type": "code",
   "execution_count": null,
   "metadata": {},
   "outputs": [],
   "source": [
    "def reduce(data, algorithm='IncrementalPCA', stack=False, keys=None, ndims=3, fillna=False, interpolation_kwargs={}, **kwargs):\n",
    "    '''\n",
    "    ARGUMENTS:\n",
    "    data: data to reduce (numpy array or compatable, or a pandas\n",
    "          dataframe or compatable).  Formatted as a 2d matrix whose\n",
    "          rows are observations and whose columns are feature\n",
    "          dimensions.\n",
    "    \n",
    "    algorithm: one of: 'DictionaryLearning', 'FactorAnalysis',\n",
    "          'FastICA', 'IncrementalPCA', 'KernelPCA',\n",
    "          'LatentDirichletAllocation', 'MiniBatchDictionaryLearning',\n",
    "          'MiniBatchSparsePCA', 'NMF', 'PCA', 'SparseCoder',\n",
    "          'SparsePCA', 'TruncatedSVD', or 'UMAP'.  Calls the\n",
    "          relevant scikit-learn or UMAP function.  Can also\n",
    "          pass a function directly.\n",
    "    \n",
    "    ndims: the number of dimensions (columns) in the result (default: 3).\n",
    "          if ndims > data.shape[1], the right-most columns will be\n",
    "          zero-padded.\n",
    "    \n",
    "    fillna: if True, use PPCA and interpolation to fill in nan-valued entries (default: False)\n",
    "    \n",
    "    interpolation_kwargs: keyword arguments passed to the interpolation function, used\n",
    "           when fillna is True.\n",
    "    \n",
    "    stack: if True, create a single (stacked) MultiIndex DataFrame out of\n",
    "           the inputted data list and return a version of the same dataframe,\n",
    "           but with ndims columns (named range(ndims))\n",
    "    \n",
    "    keys: a name for each data matrix (default: None; name each set of observations\n",
    "          range(len(data))).  Only relevant when stack is True.\n",
    "    \n",
    "    all additional keyword arguments are passed to the reduce function\n",
    "    \n",
    "    RETURNS:\n",
    "    pandas dataframe (or list of dataframes) with number-of-observations rows and\n",
    "    ndims columns\n",
    "    '''\n",
    "    \n",
    "    if type(algorithm) == str:\n",
    "        assert algorithm in reduce_models, f'Unknown algorithm: {algorithm}' #security check to prevent executing arbitrary code\n",
    "        algorithm = eval(algorithm)\n",
    "    else:\n",
    "        if not (('sklearn.decomposition' in algorithm.__module__) or ('umap.umap_' in algorithm.__module__)):\n",
    "            raise Exception(f'Unknown algorithm: {algorithm}')\n",
    "    \n",
    "    assert ndims >= 0, f'Number of dimensions must be non-negative (given: {ndims})'\n",
    "    \n",
    "    warnings.filterwarnings('ignore', category=RuntimeWarning)\n",
    "    \n",
    "    data = format_data(data)\n",
    "    \n",
    "    if fillna:\n",
    "        data = fill_missing(data, **interpolation_kwargs)\n",
    "    \n",
    "    stacked_data = panda_stack(data, keys=keys)\n",
    "    vals = stacked_data.values\n",
    "    \n",
    "    if vals.shape[1] > ndims:\n",
    "        model = algorithm(n_components=ndims, **kwargs)\n",
    "        reduced_vals = model.fit_transform(vals)\n",
    "    elif vals.shape[1] < ndims:\n",
    "        reduced_vals = np.concatenate([vals, np.zeros([vals.shape[0], ndims-vals.shape[1]])], axis=1)\n",
    "    else:\n",
    "        reduced_vals = vals\n",
    "    \n",
    "    reduced_data = pd.DataFrame(data=reduced_vals, index=stacked_data.index, columns=np.arange(ndims))\n",
    "    if stack:\n",
    "        return reduced_data\n",
    "    else:\n",
    "        return panda_unstack(reduced_data)"
   ]
  },
  {
   "cell_type": "code",
   "execution_count": null,
   "metadata": {},
   "outputs": [],
   "source": [
    "def cluster(data, algorithm='KMeans', k=10, stack=False, keys=None, fillna=False, interpolation_kwargs={}, return_model=False, **kwargs):\n",
    "    if type(algorithm) == str:\n",
    "        assert (algorithm in cluster_models) or (algorithm in mixture_models), f'Unknown algorithm: {algorithm}' #security check to prevent executing arbitrary code\n",
    "        algorithm = eval(algorithm)\n",
    "    else:\n",
    "        if not (('sklearn.cluster' in algorithm.__module__) or ('sklearn.decomposition' in algorithm.__module__) or ('sklearn.mixture' in algorithm.__module__)):\n",
    "            raise Exception(f'Unknown algorithm: {algorithm}')\n",
    "    \n",
    "    k_dict = {'cluster_models': 'n_clusters', 'mixture_models': 'n_components'}\n",
    "    for model_type in k_dict.keys():\n",
    "        if algorithm.__name__ in eval(model_type):\n",
    "            if not (k_dict[model_type] in kwargs.keys()):\n",
    "                kwargs[k_dict[model_type]] = k\n",
    "            else:\n",
    "                warnings.warn(f\"Overloaded keyword argument; ignoring k value ({k}) in favor of keyword-specified {k_dict[model_type]}: {kwargs[k_dict[model_type]]}\")\n",
    "            break\n",
    "    \n",
    "    if not ('verbose' in kwargs.keys()):\n",
    "        kwargs['verbose'] = eval(defaults['cluster']['verbose'])\n",
    "    \n",
    "    data = format_data(data)\n",
    "    \n",
    "    if fillna:\n",
    "        data = fill_missing(data, **interpolation_kwargs)\n",
    "    \n",
    "    stacked_data = panda_stack(data, keys=keys)\n",
    "    vals = stacked_data.values\n",
    "    \n",
    "    if algorithm.__name__ in decomposition_models:\n",
    "        if np.min(vals) < 0:\n",
    "            vals -= np.min(vals) #avoid negative values by setting minimum value to 0\n",
    "    \n",
    "    model = algorithm(**kwargs)\n",
    "    model.fit(vals)\n",
    "    \n",
    "    if hasattr(model, 'n_clusters'):\n",
    "        n = 1\n",
    "    elif hasattr(model, 'n_components'):\n",
    "        n = model.n_components\n",
    "    else:\n",
    "        raise NotImplementedError(f'Unsupported model: {model}')\n",
    "    \n",
    "    if hasattr(model, 'predict_proba'):\n",
    "        labels = model.predict_proba(vals)\n",
    "    elif hasattr(model, 'predict'):\n",
    "        labels = model.predict(vals)\n",
    "    elif hasattr(model, 'transform'):\n",
    "        labels = model.transform(vals)\n",
    "    else:\n",
    "        raise NotImplementedError(f'Unsupported model: {model}')\n",
    "    \n",
    "    labels = np.array(labels, ndmin=2)\n",
    "    if n == 1:\n",
    "        labels = labels.T\n",
    "    \n",
    "    stacked_labels = pd.DataFrame(data=labels, index=stacked_data.index, columns=np.arange(n))\n",
    "    \n",
    "    if stack:\n",
    "        if return_model:\n",
    "            return stacked_labels, model\n",
    "        else:\n",
    "            return stacked_labels\n",
    "    else:\n",
    "        if return_model:\n",
    "            return panda_unstack(stacked_labels), model\n",
    "        else:\n",
    "            return panda_unstack(stacked_labels)"
   ]
  },
  {
   "cell_type": "code",
   "execution_count": null,
   "metadata": {},
   "outputs": [],
   "source": [
    "xs = [np.cumsum(np.random.randn(100, 10), axis=0) for i in np.arange(10)]"
   ]
  },
  {
   "cell_type": "code",
   "execution_count": null,
   "metadata": {},
   "outputs": [],
   "source": [
    "x_stacked = panda_stack(xs)"
   ]
  },
  {
   "cell_type": "code",
   "execution_count": null,
   "metadata": {},
   "outputs": [],
   "source": [
    "cluster(xs, stack=True, algorithm='GaussianMixture', k=5)"
   ]
  },
  {
   "cell_type": "code",
   "execution_count": null,
   "metadata": {},
   "outputs": [],
   "source": [
    "from plotly.offline import plot as pyplot"
   ]
  },
  {
   "cell_type": "code",
   "execution_count": null,
   "metadata": {},
   "outputs": [],
   "source": [
    "def plotter(data, style='line', reduce_kwargs={}, **kwargs):\n",
    "    global HYPERTOOLS_NOTEBOOK_MODE\n",
    "        \n",
    "    def combo_merge(a, b):\n",
    "        combos = []\n",
    "        for i in a:\n",
    "            for j in b:\n",
    "                if (len(i) <= 2):\n",
    "                    if (len(j) <= 2):\n",
    "                        combos.append(i+j)\n",
    "                elif len(j) > 1:\n",
    "                    combos.append(i + '+' + j)\n",
    "        return combos\n",
    "    \n",
    "    marker_styles = ['.', 'o', 'scatter', 'marker', 'markers', 'bigmarker', 'bigmarkers']\n",
    "    line_styles = ['-', '--', ':', '-:', 'line', 'lines']\n",
    "    combo_styles = combo_merge(marker_styles, line_styles) + combo_merge(line_styles, marker_styles)\n",
    "    big_markers = ['o', 'big']\n",
    "    dash_styles = {'--': 'dash', '-:': 'dashdot', ':': 'dot'}\n",
    "    \n",
    "    def substr_list(style, x):\n",
    "        '''\n",
    "        style: a style string\n",
    "        x: a list of substrings\n",
    "        \n",
    "        return: true if any of the strings in x is a substring of s, and false othewise    \n",
    "        '''\n",
    "        inds = np.array([s in style for s in x])\n",
    "        if np.any(inds):\n",
    "            return x[np.where(inds)[0][0]]\n",
    "        else:\n",
    "            return ''\n",
    "    \n",
    "    is_line = lambda s: substr_list(s, line_styles + combo_styles)\n",
    "    is_marker = lambda s: substr_list(s, marker_styles + combo_styles)\n",
    "    is_combo = lambda s: substr_list(s, combo_styles)\n",
    "    \n",
    "    is_dashed = lambda s: substr_list(s, list(dash_styles.keys()))\n",
    "    is_bigmarker = lambda s: substr_list(s, big_markers)\n",
    "    \n",
    "    reduced_data = reduce(data, stack=True, **reduce_kwargs)\n",
    "    split_data = panda_unstack(reduced_data)\n",
    "    \n",
    "    if reduced_data.shape[1] == 2:\n",
    "        suffix = ''\n",
    "    elif reduced_data.shape[1] == 3:\n",
    "        suffix = '3D'\n",
    "    else:\n",
    "        raise NotImplementedError(f'Unsupported number of dimensions; reduced data must be 2d or 3d, given: {reduced_data.shape[1]}')\n",
    "    \n",
    "    #TODO: add support for multiple styles (up to one per line)\n",
    "    #TODO: load in custom plot theme/style from defaults, also allow user to customize\n",
    "    #TODO: draw bounding box around space\n",
    "    #TODO: support animation:\n",
    "    # - camera rotation\n",
    "    # - window length around current timepoint\n",
    "    # - opacity of prior timepoints\n",
    "    # - opacity of current window\n",
    "    # - opacity of future timepoints    \n",
    "    #TODO: legend customization\n",
    "    #TODO: label each point with its original values and/or a user-specified label\n",
    "    #TODO: support per-datapoint colors, including for lines\n",
    "    #TODO: support for mixture-based colors-- if 1d, map onto colormap.  If 1 < n-colors <= 3, pick\n",
    "    #      a color for each dimension and then compute each coordinate as a weighted blend.  If > 3,\n",
    "    #      map onto 3D colors and then treat as 3D.  Can also define custom functions-- should take\n",
    "    #      in any observation and return a new vector describing its color (in >= 1D).  also support\n",
    "    #      a list of functions (one per data matrix)\n",
    "    #TODO: support plotting of error bars via streamtubes and/or ribbon plots\n",
    "    #TODO: support plotting \"vector fields\" by taking a list of two matrices of coordinats,\n",
    "    #      one specifying the start points and the other specifying the end points of each\n",
    "    #      vector\n",
    "    \n",
    "    #Write a general \"hypertools function\" that does all analyses by calling normalize --> align --> reduce\n",
    "    #in sequence.\n",
    "    \n",
    "    #TODO: support for nested (>2 level dataframes)\n",
    "    #TODO: support interpolation for line_styles and combo_styles\n",
    "    #TODO: define default options outside of this function in a dictionary\n",
    "    #TODO: normalization options: z-score down rows, across columns, both, or arbitrary functions (take\n",
    "    #      in a data matrix and return a new matrix of the same type/size).  can also provide lists of\n",
    "    #      normalization functions to be applied separately to each data matrix.\n",
    "    #TODO: add support for multiple reduce functions (and/or reduce_kwargs)-- one per data matrix\n",
    "    #TODO: add hyperalignment and SRM.  also allow different subsets of the data to be aligned, e.g.\n",
    "    #      according to the unique IDs specified in a list of group IDs, some column of the data matrix,\n",
    "    #      cluster IDs, or a custom function (or a dictionary of functions specifying how different\n",
    "    #      group IDs should be aligned); functions should take in a list of data matrices and returned an aligned\n",
    "    #      list in the same format.\n",
    "    \n",
    "    style = style.lower()\n",
    "    \n",
    "    assert style in marker_styles + line_styles + combo_styles, f'Unsupported plot style: {style}'\n",
    "    \n",
    "    if is_combo(style):\n",
    "        mode='lines+markers'\n",
    "    elif is_line(style):\n",
    "        mode='lines'\n",
    "    else:\n",
    "        mode='markers'\n",
    "    \n",
    "    if is_line(style):\n",
    "        if not('line' in kwargs.keys()):\n",
    "                kwargs['line'] = {}\n",
    "        #if not('opacity' in kwargs['line'].keys()):\n",
    "        #    kwargs['line']['opacity'] = float(defaults['plot']['opacity'])\n",
    "        \n",
    "        dash = is_dashed(style)\n",
    "        if dash:\n",
    "            print(f'dashed line: {dash}')\n",
    "            if not('dash' in kwargs['line'].keys()):\n",
    "                kwargs['line']['dash'] = dash_styles[dash]\n",
    "    if is_marker(style):\n",
    "        if is_bigmarker(style):\n",
    "            size = int(defaults['plot']['bigmarkersize'])\n",
    "        else:\n",
    "            size = int(defaults['plot']['markersize'])\n",
    "        \n",
    "        if not('marker' in kwargs.keys()):\n",
    "            kwargs['marker'] = {}\n",
    "        if not('size' in kwargs['marker'].keys()):\n",
    "            if is_bigmarker(style):\n",
    "                kwargs['marker']['size'] = int(defaults['plot']['bigmarkersize'])\n",
    "            else:\n",
    "                kwargs['marker']['size'] = int(defaults['plot']['markersize'])        \n",
    "        if not('opacity' in kwargs['marker'].keys()):\n",
    "            kwargs['marker']['opacity'] = float(defaults['plot']['opacity'])            \n",
    "    \n",
    "    names = [str(n) for n in np.array(reduced_data.index.levels[0])]\n",
    "    \n",
    "    if reduced_data.shape[1] == 2:\n",
    "        shapes = [go.Scatter(x=d.iloc[:, 0], y=d.iloc[:, 1], mode=mode, name=names[i], **kwargs) for i, d in enumerate(split_data)]\n",
    "    elif reduced_data.shape[1] == 3:\n",
    "        shapes = [go.Scatter3d(x=d.iloc[:, 0], y=d.iloc[:, 1], z=d.iloc[:, 2], mode=mode, name=names[i], **kwargs) for i, d in enumerate(split_data)]\n",
    "    \n",
    "    if HYPERTOOLS_NOTEBOOK_MODE:\n",
    "        return iplot(shapes)\n",
    "    else:\n",
    "        return plot(shapes)"
   ]
  },
  {
   "cell_type": "code",
   "execution_count": null,
   "metadata": {},
   "outputs": [],
   "source": [
    "x_r = reduce(xs, algorithm='UMAP')"
   ]
  },
  {
   "cell_type": "code",
   "execution_count": null,
   "metadata": {},
   "outputs": [],
   "source": [
    "plotter(xs, '.')"
   ]
  },
  {
   "cell_type": "code",
   "execution_count": null,
   "metadata": {},
   "outputs": [],
   "source": [
    "plotter(xs, style='-:')"
   ]
  },
  {
   "cell_type": "code",
   "execution_count": null,
   "metadata": {},
   "outputs": [],
   "source": [
    "plotter(xs, style='-o')"
   ]
  },
  {
   "cell_type": "code",
   "execution_count": null,
   "metadata": {},
   "outputs": [],
   "source": [
    "plotter(xs, style='.', reduce_kwargs={'ndims': 2})"
   ]
  },
  {
   "cell_type": "code",
   "execution_count": null,
   "metadata": {},
   "outputs": [],
   "source": [
    "plotter(xs, style='-', reduce_kwargs={'ndims': 2})"
   ]
  },
  {
   "cell_type": "code",
   "execution_count": null,
   "metadata": {},
   "outputs": [],
   "source": []
  }
 ],
 "metadata": {
  "kernelspec": {
   "display_name": "Python 3",
   "language": "python",
   "name": "python3"
  },
  "language_info": {
   "codemirror_mode": {
    "name": "ipython",
    "version": 3
   },
   "file_extension": ".py",
   "mimetype": "text/x-python",
   "name": "python",
   "nbconvert_exporter": "python",
   "pygments_lexer": "ipython3",
   "version": "3.6.5"
  }
 },
 "nbformat": 4,
 "nbformat_minor": 2
}
