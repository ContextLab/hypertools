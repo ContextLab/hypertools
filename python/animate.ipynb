{
 "cells": [
  {
   "cell_type": "code",
   "execution_count": 1,
   "metadata": {
    "collapsed": false
   },
   "outputs": [],
   "source": [
    "#EXAMPLE\n",
    "#single subject from weights.mat, reduced to 2D, and dynamically plotted"
   ]
  },
  {
   "cell_type": "code",
   "execution_count": 2,
   "metadata": {
    "collapsed": false
   },
   "outputs": [
    {
     "data": {
      "text/plain": [
       "<matplotlib.animation.FuncAnimation at 0x1118f7950>"
      ]
     },
     "execution_count": 2,
     "metadata": {},
     "output_type": "execute_result"
    }
   ],
   "source": [
    "import scipy.io as sio\n",
    "import numpy as np\n",
    "import matplotlib.pyplot as plt \n",
    "import matplotlib.animation as animation\n",
    "import scipy\n",
    "from scipy.interpolate import PchipInterpolator as pchip\n",
    "import PCA as PCA\n",
    "from mpl_toolkits.mplot3d import Axes3D\n",
    "\n",
    "    \n",
    "    \n",
    "def interp(z):\n",
    "    x=np.arange(0, len(z), 1)\n",
    "    xx=np.arange(0, len(z)-1, .1)\n",
    "    q=pchip(x,z)\n",
    "    return q(xx)\n",
    "\n",
    "\n",
    "#test_data=np.array([[3, 7],[1, 2],[8, 11],[5, -12],[20, 25], [-3, 30], [2,2], [17, 17]])\n",
    "data=sio.loadmat('weights.mat')\n",
    "test_data=data['weights'][0][0]\n",
    "test_data2=data['weights'][0][1]\n",
    "\n",
    "\n",
    "test_data=PCA.reduc(test_data, 3)\n",
    "test_data2=PCA.reduc(test_data2, 3)\n",
    "\n",
    "test_interp = interp(test_data)\n",
    "test_interp2 = interp(test_data2)\n",
    "\n",
    "#print test_interp\n",
    "\n",
    "\n",
    "def animate2(i):\n",
    "    ax1.clear()\n",
    "    #ax2.clear()\n",
    "    \n",
    "    ax1.set_color_cycle(['red', 'green','blue','black'])\n",
    "    #ax2.set_color_cycle(['black'])\n",
    "    \n",
    "    ax1.plot(test_interp[0:i, 0], test_interp[0:i, 1], test_interp[0:i, 2])\n",
    "    ax1.plot(test_interp2[0:i, 0], test_interp2[0:i, 1], test_interp2[0:i, 2])\n",
    "\n",
    "fig1 = plt.figure()\n",
    "ax1 = fig1.add_subplot(111, projection='3d')\n",
    "#ax2 = fig1.add_subplot(121, projection='3d')\n",
    "\n",
    "\n",
    "\n",
    "#l1, = ax1.plot([],[],[],'r-')\n",
    "#l2, = ax2.plot([],[],[],'b-')\n",
    "\n",
    "#plt.show()\n",
    "\n",
    "animation.FuncAnimation(fig1, animate2, frames=range(1, len(test_interp)), interval=8, repeat=True)\n",
    "\n",
    "\n",
    "\n"
   ]
  },
  {
   "cell_type": "code",
   "execution_count": 3,
   "metadata": {
    "collapsed": false
   },
   "outputs": [
    {
     "name": "stderr",
     "output_type": "stream",
     "text": [
      "/Users/contextlab/Library/Enthought/Canopy_64bit/User/lib/python2.7/site-packages/matplotlib/cbook.py:137: MatplotlibDeprecationWarning: The set_color_cycle attribute was deprecated in version 1.5. Use set_prop_cycle instead.\n",
      "  warnings.warn(message, mplDeprecation, stacklevel=1)\n"
     ]
    }
   ],
   "source": [
    "plt.show()"
   ]
  },
  {
   "cell_type": "code",
   "execution_count": null,
   "metadata": {
    "collapsed": true
   },
   "outputs": [],
   "source": []
  },
  {
   "cell_type": "code",
   "execution_count": null,
   "metadata": {
    "collapsed": true
   },
   "outputs": [],
   "source": []
  },
  {
   "cell_type": "code",
   "execution_count": null,
   "metadata": {
    "collapsed": true
   },
   "outputs": [],
   "source": []
  }
 ],
 "metadata": {
  "kernelspec": {
   "display_name": "Python 2",
   "language": "python",
   "name": "python2"
  },
  "language_info": {
   "codemirror_mode": {
    "name": "ipython",
    "version": 2
   },
   "file_extension": ".py",
   "mimetype": "text/x-python",
   "name": "python",
   "nbconvert_exporter": "python",
   "pygments_lexer": "ipython2",
   "version": "2.7.11"
  }
 },
 "nbformat": 4,
 "nbformat_minor": 0
}
