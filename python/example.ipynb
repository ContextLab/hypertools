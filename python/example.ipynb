{
 "cells": [
  {
   "cell_type": "markdown",
   "metadata": {},
   "source": [
    "## Import libraries"
   ]
  },
  {
   "cell_type": "code",
   "execution_count": 33,
   "metadata": {
    "collapsed": false
   },
   "outputs": [],
   "source": [
    "import plot_coords as coords\n",
    "import hyperalign as hyp\n",
    "import scipy.io as sio\n",
    "import traj_plot as traj\n",
    "import numpy as np\n",
    "# %matplotlib inline\n",
    "\n",
    "\n",
    "from scipy.interpolate import PchipInterpolator as pchip"
   ]
  },
  {
   "cell_type": "markdown",
   "metadata": {},
   "source": [
    "## Load in example data"
   ]
  },
  {
   "cell_type": "code",
   "execution_count": 34,
   "metadata": {
    "collapsed": false
   },
   "outputs": [],
   "source": [
    "data=sio.loadmat('weights.mat')"
   ]
  },
  {
   "cell_type": "markdown",
   "metadata": {},
   "source": [
    "\n",
    "## Plot 2 subjects data"
   ]
  },
  {
   "cell_type": "code",
   "execution_count": 35,
   "metadata": {
    "collapsed": false
   },
   "outputs": [
    {
     "name": "stdout",
     "output_type": "stream",
     "text": [
      "None\n"
     ]
    }
   ],
   "source": [
    "w=data['weights'][0]\n",
    "print traj.traj(w)\n",
    "\n",
    "#coords.plot_coords(w)\n"
   ]
  },
  {
   "cell_type": "markdown",
   "metadata": {},
   "source": [
    "## Hyperalign and replot the data"
   ]
  },
  {
   "cell_type": "code",
   "execution_count": 8,
   "metadata": {
    "collapsed": false
   },
   "outputs": [],
   "source": [
    "new=hyp.hyperalign(w)\n",
    "coords.plot_coords(new)"
   ]
  },
  {
   "cell_type": "code",
   "execution_count": 9,
   "metadata": {
    "collapsed": false
   },
   "outputs": [
    {
     "name": "stdout",
     "output_type": "stream",
     "text": [
      "[[ 1.54960794  0.00836553  0.53535275 ...,  0.57384635  1.1723511\n",
      "   0.34656648]\n",
      " [ 0.79020201  0.06576407  0.12130573 ..., -0.16467264  0.57102629\n",
      "  -0.19887386]\n",
      " [-0.02059508  0.06284615  0.07327231 ..., -0.16656085  0.3270706\n",
      "  -0.13113343]\n",
      " ..., \n",
      " [-0.4469595  -0.00795435  0.66622793 ...,  0.54065959 -0.00273777\n",
      "   1.26628592]\n",
      " [-0.26116031 -0.19556257  0.69952158 ...,  0.3284003  -0.11054993\n",
      "   1.65495527]\n",
      " [-0.32953896 -0.0744087   0.64839334 ...,  0.04698723 -0.2319036\n",
      "   1.6719422 ]]\n",
      "[[ 1.19141845 -0.06547415  0.4485397  ...,  0.06766402  1.00010566\n",
      "   0.5414049 ]\n",
      " [ 0.63233511  0.07012342  0.02000805 ...,  0.00565577  0.4487301\n",
      "  -0.11082364]\n",
      " [ 0.32301275  0.31087268  0.02237373 ..., -0.29169707  0.2974032\n",
      "  -0.19899365]\n",
      " ..., \n",
      " [-0.2206714  -0.09823958  0.5778501  ...,  0.03316083 -0.11880237\n",
      "   1.4853543 ]\n",
      " [-0.23006506 -0.25457898  0.39468428 ...,  0.13359032 -0.30476659\n",
      "   1.53000261]\n",
      " [-0.08902919 -0.16263166  0.25926777 ..., -0.14247111 -0.17291753\n",
      "   1.40888337]]\n"
     ]
    }
   ],
   "source": [
    "group1 = np.zeros((300,100));\n",
    "for sub in w[0:18]:\n",
    "    group1+=sub\n",
    "group1 = group1/18\n",
    "print(group1)\n",
    "\n",
    "group2 = np.zeros((300,100));\n",
    "for sub in w[18:36]:\n",
    "    group2+=sub\n",
    "group2 = group2/18\n",
    "print(group2)"
   ]
  },
  {
   "cell_type": "code",
   "execution_count": 10,
   "metadata": {
    "collapsed": false
   },
   "outputs": [],
   "source": [
    "new=hyp.hyperalign(group1[0:50],group2[0:50])\n",
    "coords.plot_coords(new)"
   ]
  },
  {
   "cell_type": "code",
   "execution_count": null,
   "metadata": {
    "collapsed": true
   },
   "outputs": [],
   "source": []
  }
 ],
 "metadata": {
  "kernelspec": {
   "display_name": "Python 2",
   "language": "python",
   "name": "python2"
  },
  "language_info": {
   "codemirror_mode": {
    "name": "ipython",
    "version": 2
   },
   "file_extension": ".py",
   "mimetype": "text/x-python",
   "name": "python",
   "nbconvert_exporter": "python",
   "pygments_lexer": "ipython2",
   "version": "2.7.11"
  },
  "widgets": {
   "state": {},
   "version": "1.1.2"
  }
 },
 "nbformat": 4,
 "nbformat_minor": 0
}
