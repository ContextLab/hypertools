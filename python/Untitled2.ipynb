{
 "cells": [
  {
   "cell_type": "code",
   "execution_count": 27,
   "metadata": {
    "collapsed": false
   },
   "outputs": [],
   "source": [
    "from matplotlib import style\n",
    "import scipy.io as sio\n",
    "import numpy as np\n",
    "import matplotlib.pyplot as plt \n",
    "import matplotlib.animation as animation\n",
    "import scipy\n",
    "from scipy.interpolate import PchipInterpolator as pchip\n",
    "#import PCA as PCA\n",
    "from mpl_toolkits.mplot3d import Axes3D\n",
    "import hyperalign as hyp\n",
    "from sklearn.decomposition import PCA\n",
    "import threading \n",
    "#from apscheduler.scheduler import Scheduler\n",
    "#import asyncio\n",
    "#import trollius"
   ]
  },
  {
   "cell_type": "code",
   "execution_count": 65,
   "metadata": {
    "collapsed": true
   },
   "outputs": [],
   "source": [
    "def interp(z):\n",
    "    #z=[k,m]\n",
    "    x=np.arange(0, len(z), 1)\n",
    "    xx=np.arange(0, len(z)-1, .1)\n",
    "    q=pchip(x,z)\n",
    "    return q(xx)"
   ]
  },
  {
   "cell_type": "code",
   "execution_count": 66,
   "metadata": {
    "collapsed": false
   },
   "outputs": [
    {
     "ename": "SyntaxError",
     "evalue": "invalid syntax (<ipython-input-66-5b0101fc8d81>, line 4)",
     "output_type": "error",
     "traceback": [
      "\u001b[0;36m  File \u001b[0;32m\"<ipython-input-66-5b0101fc8d81>\"\u001b[0;36m, line \u001b[0;32m4\u001b[0m\n\u001b[0;31m    async def count_lines(loop):\u001b[0m\n\u001b[0m            ^\u001b[0m\n\u001b[0;31mSyntaxError\u001b[0m\u001b[0;31m:\u001b[0m invalid syntax\n"
     ]
    }
   ],
   "source": [
    "lines=8\n",
    "sleep_secs=1\n",
    "\n",
    "async def count_lines(loop):\n",
    "    num_lines=open('test1.csv').read().count('\\n')\n",
    "    while num_lines != required_lines:\n",
    "        await asyncio.sleep(sleep_secs)\n",
    "        num_lines=open('text1.csv').read().count('\\n')\n",
    "        \n",
    "loop = trollius.get_event_loop()\n",
    "loop.run_until_complete(count_lines(loop))\n",
    "loop.close()"
   ]
  },
  {
   "cell_type": "code",
   "execution_count": 67,
   "metadata": {
    "collapsed": false
   },
   "outputs": [
    {
     "data": {
      "text/plain": [
       "PCA(copy=True, n_components=3, whiten=True)"
      ]
     },
     "execution_count": 67,
     "metadata": {},
     "output_type": "execute_result"
    }
   ],
   "source": [
    "csv = np.genfromtxt('test1.csv', delimiter=\",\")\n",
    "x=csv[:, :] \n",
    "z=x[-1,:]\n",
    "m=PCA(n_components=3, whiten=True)\n",
    "m.fit(x)\n",
    "#m.fit(x[0])"
   ]
  },
  {
   "cell_type": "code",
   "execution_count": 81,
   "metadata": {
    "collapsed": false
   },
   "outputs": [
    {
     "name": "stdout",
     "output_type": "stream",
     "text": [
      "<type 'numpy.float64'>\n",
      "<type 'numpy.float64'>\n",
      "0.903453189165\n",
      "70.0\n",
      "[[  3.    ]\n",
      " [  2.729 ]\n",
      " [  2.512 ]\n",
      " [  2.343 ]\n",
      " [  2.216 ]\n",
      " [  2.125 ]\n",
      " [  2.064 ]\n",
      " [  2.027 ]\n",
      " [  2.008 ]\n",
      " [  2.001 ]\n",
      " [  2.    ]\n",
      " [  2.1695]\n",
      " [  2.656 ]\n",
      " [  3.4265]\n",
      " [  4.448 ]\n",
      " [  5.6875]\n",
      " [  7.112 ]\n",
      " [  8.6885]\n",
      " [ 10.384 ]\n",
      " [ 12.1655]]\n"
     ]
    },
    {
     "name": "stderr",
     "output_type": "stream",
     "text": [
      "/Users/contextlab/Library/Enthought/Canopy_64bit/User/lib/python2.7/site-packages/sklearn/utils/validation.py:386: DeprecationWarning: Passing 1d arrays as data is deprecated in 0.17 and willraise ValueError in 0.19. Reshape your data either using X.reshape(-1, 1) if your data has a single feature or X.reshape(1, -1) if it contains a single sample.\n",
      "  DeprecationWarning)\n",
      "/Users/contextlab/Library/Enthought/Canopy_64bit/User/lib/python2.7/site-packages/sklearn/utils/validation.py:386: DeprecationWarning: Passing 1d arrays as data is deprecated in 0.17 and willraise ValueError in 0.19. Reshape your data either using X.reshape(-1, 1) if your data has a single feature or X.reshape(1, -1) if it contains a single sample.\n",
      "  DeprecationWarning)\n",
      "/Users/contextlab/Library/Enthought/Canopy_64bit/User/lib/python2.7/site-packages/sklearn/utils/validation.py:386: DeprecationWarning: Passing 1d arrays as data is deprecated in 0.17 and willraise ValueError in 0.19. Reshape your data either using X.reshape(-1, 1) if your data has a single feature or X.reshape(1, -1) if it contains a single sample.\n",
      "  DeprecationWarning)\n"
     ]
    }
   ],
   "source": [
    "\n",
    "csv2 = np.genfromtxt('test2.csv', delimiter=\",\")\n",
    "y=csv2[-1,:]\n",
    "p=m.transform(z)\n",
    "\n",
    "if not np.array_equal(p, y):\n",
    "    \n",
    "    print type(m.transform(z)[0][0])\n",
    "    print type(csv2[-1,:][0])\n",
    "\n",
    "    j=m.transform(z)[0][0]\n",
    "    k=csv2[-1,:][0]\n",
    "    \n",
    "    print j\n",
    "    print k\n",
    "    #x=[j,k]\n",
    "x=np.array([[3],[2],[14]])\n",
    "new=interp(x)\n",
    "\n",
    "#test_data=np.array([[3, 7],[1, 2],[8, 11],[5, -12],[20, 25], [-3, 30], [2,2], [17, 17]])\n",
    "#new=interp(test_data)\n",
    "\n",
    "    \n",
    "print new"
   ]
  },
  {
   "cell_type": "code",
   "execution_count": null,
   "metadata": {
    "collapsed": true
   },
   "outputs": [],
   "source": []
  },
  {
   "cell_type": "code",
   "execution_count": null,
   "metadata": {
    "collapsed": true
   },
   "outputs": [],
   "source": []
  }
 ],
 "metadata": {
  "kernelspec": {
   "display_name": "Python 2",
   "language": "python",
   "name": "python2"
  },
  "language_info": {
   "codemirror_mode": {
    "name": "ipython",
    "version": 2
   },
   "file_extension": ".py",
   "mimetype": "text/x-python",
   "name": "python",
   "nbconvert_exporter": "python",
   "pygments_lexer": "ipython2",
   "version": "2.7.11"
  }
 },
 "nbformat": 4,
 "nbformat_minor": 0
}
