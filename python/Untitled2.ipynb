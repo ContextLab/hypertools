{
 "cells": [
  {
   "cell_type": "code",
   "execution_count": 50,
   "metadata": {
    "collapsed": false
   },
   "outputs": [],
   "source": [
    "from matplotlib import style\n",
    "import scipy.io as sio\n",
    "import numpy as np\n",
    "import matplotlib.pyplot as plt \n",
    "import matplotlib.animation as animation\n",
    "import scipy\n",
    "from scipy.interpolate import PchipInterpolator as pchip\n",
    "#import PCA as PCA\n",
    "from mpl_toolkits.mplot3d import Axes3D\n",
    "import hyperalign as hyp\n",
    "from sklearn.decomposition import PCA\n",
    "import threading \n",
    "#from apscheduler.scheduler import Scheduler\n",
    "#import asyncio\n",
    "#import trollius\n",
    "\n",
    "import trollius\n",
    "#trollius requires a pip install\n",
    "from trollius import From\n",
    "import csv"
   ]
  },
  {
   "cell_type": "code",
   "execution_count": 51,
   "metadata": {
    "collapsed": true
   },
   "outputs": [],
   "source": [
    "def interp(z):\n",
    "    #z=[k,m]\n",
    "    x=np.arange(0, len(z), 1)\n",
    "    xx=np.arange(0, len(z)-1, .1)\n",
    "    q=pchip(x,z)\n",
    "    return q(xx)"
   ]
  },
  {
   "cell_type": "code",
   "execution_count": 52,
   "metadata": {
    "collapsed": false
   },
   "outputs": [],
   "source": [
    "required_lines=8\n",
    "#replace lines required with desired_seconds*rate\n",
    "sleep_secs=1\n",
    "\n",
    "@trollius.coroutine\n",
    "def count_lines():\n",
    "    num_lines=open('test1.csv').read().count('\\n')\n",
    "    while num_lines != required_lines:\n",
    "        yield From(trollius.sleep(sleep_secs))\n",
    "        num_lines=open('test1.csv').read().count('\\n')\n",
    "        \n",
    "loop = trollius.get_event_loop()\n",
    "loop.run_until_complete(count_lines())\n",
    "#loop.close()"
   ]
  },
  {
   "cell_type": "code",
   "execution_count": 53,
   "metadata": {
    "collapsed": false
   },
   "outputs": [
    {
     "data": {
      "text/plain": [
       "PCA(copy=True, n_components=3, whiten=True)"
      ]
     },
     "execution_count": 53,
     "metadata": {},
     "output_type": "execute_result"
    }
   ],
   "source": [
    "csv = np.genfromtxt('test1.csv', delimiter=\",\")\n",
    "x1=csv[:, :] \n",
    "z=x1[-1,:]\n",
    "#z is the last line of the raw data csv (new data point)\n",
    "\n",
    "m=PCA(n_components=3, whiten=True)\n",
    "m.fit(x1)\n",
    "#m.fit(x[0])"
   ]
  },
  {
   "cell_type": "code",
   "execution_count": 125,
   "metadata": {
    "collapsed": false
   },
   "outputs": [
    {
     "name": "stderr",
     "output_type": "stream",
     "text": [
      "/Users/contextlab/Library/Enthought/Canopy_64bit/User/lib/python2.7/site-packages/sklearn/utils/validation.py:386: DeprecationWarning: Passing 1d arrays as data is deprecated in 0.17 and willraise ValueError in 0.19. Reshape your data either using X.reshape(-1, 1) if your data has a single feature or X.reshape(1, -1) if it contains a single sample.\n",
      "  DeprecationWarning)\n",
      "/Users/contextlab/Library/Enthought/Canopy_64bit/User/lib/python2.7/site-packages/sklearn/utils/validation.py:386: DeprecationWarning: Passing 1d arrays as data is deprecated in 0.17 and willraise ValueError in 0.19. Reshape your data either using X.reshape(-1, 1) if your data has a single feature or X.reshape(1, -1) if it contains a single sample.\n",
      "  DeprecationWarning)\n"
     ]
    }
   ],
   "source": [
    "#put an exception for when there is no data in test2.csv such that we populate it with the first new data point after PCA\n",
    "\n",
    "\n",
    "\n",
    "csv2 = np.genfromtxt('test2.csv', delimiter=\",\")\n",
    "y=csv2[-1,:]\n",
    "p=m.transform(z)\n",
    "\n",
    "##################\n",
    "\n",
    "\n",
    "sleep_secs2 = 1\n",
    "#change sleep secs to acquisition rate\n",
    "\n",
    "#@trollius.coroutine\n",
    "#def interp():\n",
    " #   csv2 = np.genfromtxt('test2.csv', delimiter=\",\")\n",
    "#    y=csv2[-1,:]\n",
    "#    p=m.transform(z)\n",
    "#    num_lines=open('test1.csv').read().count('\\n')\n",
    "#    while not np.array_equal(p, y): \n",
    "#        yield From(trollius.sleep(sleep_secs2))\n",
    "#        csv2 = np.genfromtxt('test2.csv', delimiter=\",\")\n",
    "#        y=csv2[-1,:]\n",
    "#        p=m.transform(z)\n",
    "        \n",
    "#loop = trollius.get_event_loop()\n",
    "#loop.run_until_complete(count_lines())\n",
    "#loop.close()\n",
    "\n",
    "###################\n",
    "\n",
    "if not np.array_equal(p, y):\n",
    "#if the transformed \"new\" raw data does not exactly match the last row in the pchipped data\n",
    "    \n",
    "    j_list=m.transform(z)\n",
    "    \n",
    "    #NEW:APPEND THIS TO TEST2.CSV THEN INTERP OVER ALL AND PLOT ON THE FLY\n",
    "\n",
    "    Fn = (\"test2.csv\")\n",
    "    w = csv.writer(open(Fn,'a'),dialect='excel')\n",
    "    w.writerows(j_list)\n",
    "    \n",
    "    \n",
    "    #PCA transform last line from new raw data csv\n",
    "    #k=csv2[-1,:]\n",
    "    #l=csv2[-2,:]\n",
    "    \n",
    "    #new_data=np.zeros((20,3))\n",
    "    #print j_list[0]\n",
    "    \n",
    "\n",
    "                \n",
    "    #for x in range(0,len(j_list[0])):\n",
    "        #y=interp([j_list[0][x],k[x],l[x]])\n",
    "        #new_data[:,x]=y.reshape(20,)\n",
    "\n",
    "#print new_data\n",
    "#print x1\n"
   ]
  },
  {
   "cell_type": "code",
   "execution_count": null,
   "metadata": {
    "collapsed": true
   },
   "outputs": [],
   "source": []
  },
  {
   "cell_type": "code",
   "execution_count": null,
   "metadata": {
    "collapsed": true
   },
   "outputs": [],
   "source": []
  }
 ],
 "metadata": {
  "kernelspec": {
   "display_name": "Python 2",
   "language": "python",
   "name": "python2"
  },
  "language_info": {
   "codemirror_mode": {
    "name": "ipython",
    "version": 2
   },
   "file_extension": ".py",
   "mimetype": "text/x-python",
   "name": "python",
   "nbconvert_exporter": "python",
   "pygments_lexer": "ipython2",
   "version": "2.7.11"
  }
 },
 "nbformat": 4,
 "nbformat_minor": 0
}
