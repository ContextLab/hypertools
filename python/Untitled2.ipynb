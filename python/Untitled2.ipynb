{
 "cells": [
  {
   "cell_type": "code",
   "execution_count": 86,
   "metadata": {
    "collapsed": false
   },
   "outputs": [],
   "source": [
    "from matplotlib import style\n",
    "import scipy.io as sio\n",
    "import numpy as np\n",
    "import matplotlib.pyplot as plt \n",
    "import matplotlib.animation as animation\n",
    "import scipy\n",
    "from scipy.interpolate import PchipInterpolator as pchip\n",
    "#import PCA as PCA\n",
    "from mpl_toolkits.mplot3d import Axes3D\n",
    "import hyperalign as hyp\n",
    "from sklearn.decomposition import PCA\n",
    "import threading \n",
    "#from apscheduler.scheduler import Scheduler\n",
    "#import asyncio\n",
    "#import trollius\n",
    "\n",
    "import trollius\n",
    "from trollius import From"
   ]
  },
  {
   "cell_type": "code",
   "execution_count": 92,
   "metadata": {
    "collapsed": true
   },
   "outputs": [],
   "source": [
    "def interp(z):\n",
    "    #z=[k,m]\n",
    "    x=np.arange(0, len(z), 1)\n",
    "    xx=np.arange(0, len(z)-1, .1)\n",
    "    q=pchip(x,z)\n",
    "    return q(xx)"
   ]
  },
  {
   "cell_type": "code",
   "execution_count": 95,
   "metadata": {
    "collapsed": false
   },
   "outputs": [],
   "source": [
    "required_lines=8\n",
    "#replace lines required with desired_seconds*rate\n",
    "sleep_secs=1\n",
    "\n",
    "@trollius.coroutine\n",
    "def count_lines():\n",
    "    num_lines=open('test1.csv').read().count('\\n')\n",
    "    while num_lines != required_lines:\n",
    "        yield From(trollius.sleep(sleep_secs))\n",
    "        num_lines=open('test1.csv').read().count('\\n')\n",
    "        \n",
    "loop = trollius.get_event_loop()\n",
    "loop.run_until_complete(count_lines())\n",
    "#loop.close()"
   ]
  },
  {
   "cell_type": "code",
   "execution_count": 96,
   "metadata": {
    "collapsed": false
   },
   "outputs": [
    {
     "data": {
      "text/plain": [
       "PCA(copy=True, n_components=3, whiten=True)"
      ]
     },
     "execution_count": 96,
     "metadata": {},
     "output_type": "execute_result"
    }
   ],
   "source": [
    "csv = np.genfromtxt('test1.csv', delimiter=\",\")\n",
    "x=csv[:, :] \n",
    "z=x[-1,:]\n",
    "m=PCA(n_components=3, whiten=True)\n",
    "m.fit(x)\n",
    "#m.fit(x[0])"
   ]
  },
  {
   "cell_type": "code",
   "execution_count": 97,
   "metadata": {
    "collapsed": false
   },
   "outputs": [
    {
     "name": "stdout",
     "output_type": "stream",
     "text": [
      "<type 'numpy.float64'>\n",
      "<type 'numpy.float64'>\n",
      "[-0.71220203 -0.96028082 -2.107286  ]\n",
      "[[ -0.71220203   0.           0.        ]\n",
      " [ 12.65377218   0.           0.        ]\n",
      " [ 24.63460977   0.           0.        ]\n",
      " [ 35.22517416   0.           0.        ]\n",
      " [ 44.42032872   0.           0.        ]\n",
      " [ 52.21493687   0.           0.        ]\n",
      " [ 58.60386198   0.           0.        ]\n",
      " [ 63.58196745   0.           0.        ]\n",
      " [ 67.14411669   0.           0.        ]\n",
      " [ 69.28517307   0.           0.        ]\n",
      " [ 70.           0.           0.        ]\n",
      " [ 69.31770491   0.           0.        ]\n",
      " [ 67.26739523   0.           0.        ]\n",
      " [ 63.84393436   0.           0.        ]\n",
      " [ 59.0421857    0.           0.        ]\n",
      " [ 52.85701263   0.           0.        ]\n",
      " [ 45.28327855   0.           0.        ]\n",
      " [ 36.31584685   0.           0.        ]\n",
      " [ 25.94958093   0.           0.        ]\n",
      " [ 14.17934418   0.           0.        ]]\n"
     ]
    },
    {
     "name": "stderr",
     "output_type": "stream",
     "text": [
      "/Users/contextlab/Library/Enthought/Canopy_64bit/User/lib/python2.7/site-packages/sklearn/utils/validation.py:386: DeprecationWarning: Passing 1d arrays as data is deprecated in 0.17 and willraise ValueError in 0.19. Reshape your data either using X.reshape(-1, 1) if your data has a single feature or X.reshape(1, -1) if it contains a single sample.\n",
      "  DeprecationWarning)\n",
      "/Users/contextlab/Library/Enthought/Canopy_64bit/User/lib/python2.7/site-packages/sklearn/utils/validation.py:386: DeprecationWarning: Passing 1d arrays as data is deprecated in 0.17 and willraise ValueError in 0.19. Reshape your data either using X.reshape(-1, 1) if your data has a single feature or X.reshape(1, -1) if it contains a single sample.\n",
      "  DeprecationWarning)\n",
      "/Users/contextlab/Library/Enthought/Canopy_64bit/User/lib/python2.7/site-packages/sklearn/utils/validation.py:386: DeprecationWarning: Passing 1d arrays as data is deprecated in 0.17 and willraise ValueError in 0.19. Reshape your data either using X.reshape(-1, 1) if your data has a single feature or X.reshape(1, -1) if it contains a single sample.\n",
      "  DeprecationWarning)\n"
     ]
    }
   ],
   "source": [
    "csv2 = np.genfromtxt('test2.csv', delimiter=\",\")\n",
    "y=csv2[-1,:]\n",
    "p=m.transform(z)\n",
    "\n",
    "if not np.array_equal(p, y):\n",
    "    \n",
    "    print type(m.transform(z)[0][0])\n",
    "    print type(csv2[-1,:][0])\n",
    "\n",
    "    #j=m.transform(z)[0][0]\n",
    "    #k=csv2[-1,:][0]\n",
    "    #l=csv2[-2,:][0]\n",
    "    \n",
    "    \n",
    "    \n",
    "    j_list=m.transform(z)\n",
    "    k=csv2[-1,:]\n",
    "    l=csv2[-2,:]\n",
    "    \n",
    "    new_data=np.zeros((20,3))\n",
    "    print j_list[0]\n",
    "    \n",
    "\n",
    "                      \n",
    "    for x in range(0,len(j_list)):\n",
    "        y=interp([j_list[0][x],k[x],l[x]])\n",
    "        new_data[:,x]=y.reshape(20,)\n",
    "\n",
    "print new_data\n",
    "\n",
    "\n"
   ]
  },
  {
   "cell_type": "code",
   "execution_count": null,
   "metadata": {
    "collapsed": true
   },
   "outputs": [],
   "source": []
  },
  {
   "cell_type": "code",
   "execution_count": null,
   "metadata": {
    "collapsed": true
   },
   "outputs": [],
   "source": []
  }
 ],
 "metadata": {
  "kernelspec": {
   "display_name": "Python 2",
   "language": "python",
   "name": "python2"
  },
  "language_info": {
   "codemirror_mode": {
    "name": "ipython",
    "version": 2
   },
   "file_extension": ".py",
   "mimetype": "text/x-python",
   "name": "python",
   "nbconvert_exporter": "python",
   "pygments_lexer": "ipython2",
   "version": "2.7.11"
  }
 },
 "nbformat": 4,
 "nbformat_minor": 0
}
