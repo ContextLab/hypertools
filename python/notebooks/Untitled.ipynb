{
 "cells": [
  {
   "cell_type": "code",
   "execution_count": null,
   "metadata": {
    "collapsed": true
   },
   "outputs": [],
   "source": [
    "\n"
   ]
  },
  {
   "cell_type": "code",
   "execution_count": 5,
   "metadata": {
    "collapsed": false
   },
   "outputs": [],
   "source": [
    "from matplotlib import style\n",
    "import scipy.io as sio\n",
    "import numpy as np\n",
    "import matplotlib.pyplot as plt \n",
    "import matplotlib.animation as animation\n",
    "import scipy\n",
    "from scipy.interpolate import PchipInterpolator as pchip\n",
    "#import PCA as PCA\n",
    "from mpl_toolkits.mplot3d import Axes3D\n",
    "import hyperalign as hyp\n",
    "from sklearn.decomposition import PCA\n",
    "#import threadin\n",
    "import trollius\n",
    "from trollius import From\n",
    "import csv\n",
    "import os\n",
    "import time\n",
    "\n",
    "\n",
    "def stream(raw_file, pca_file, seconds, rate):\n",
    "\n",
    "    ##VARIABLES##\n",
    "    \n",
    "    required_lines=seconds*rate\n",
    "    sleep_secs=1/rate \n",
    "    csv1 = np.genfromtxt(raw_file, delimiter=\",\")\n",
    "    csv2 = np.genfromtxt(pca_file, delimiter=\",\")\n",
    "    head=0 #number of header rows\n",
    "    chan=0 #number of leading channel-info cols\n",
    "\n",
    "\n",
    "####################################\n",
    "\n",
    "\n",
    "    num_lines=open(raw_file).read().count('\\n')\n",
    "\n",
    "    while num_lines==0:\n",
    "        time.sleep(sleep_secs)\n",
    "        num_lines=open(raw_file).read().count('\\n')\n",
    "\n",
    "    while num_lines != required_lines:\n",
    "        time.sleep(sleep_secs)\n",
    "        num_lines=open(raw_file).read().count('\\n')\n",
    "\n",
    "\n",
    "\n",
    "    x1=csv1[head:,chan:] #x1 is raw data minus header and channel info        \n",
    "    m=PCA(n_components=3, whiten=True)\n",
    "    m.fit(x1)\n",
    "\n",
    "    #trans=x1[-1,:]\n",
    "    out= m.transform(x1[-1,:])\n",
    "    w = csv.writer(open(pca_file,'a'),dialect='excel')\n",
    "    w.writerows(out)\n",
    "\n",
    "\n",
    "\n",
    "    num_lines2=open(pca_file).read().count('\\n')\n",
    "    #while num_lines2 < session_secs*rate :\n",
    "    while True:\n",
    "        csv_stream = np.genfromtxt(raw_file, delimiter=\",\")\n",
    "        csv_pca = np.genfromtxt(pca_file, delimiter=\",\")\n",
    "\n",
    "\n",
    "        p=m.transform(csv_stream[-1,:])            \n",
    "        w = csv.writer(open(pca_file,'a'),dialect='excel')\n",
    "        w.writerows(p)\n",
    "        time.sleep(sleep_secs)\n",
    "    #num_lines2=open(pca_file).read().count('\\n')\n"
   ]
  },
  {
   "cell_type": "code",
   "execution_count": 6,
   "metadata": {
    "collapsed": false
   },
   "outputs": [
    {
     "ename": "NameError",
     "evalue": "name 'head' is not defined",
     "output_type": "error",
     "traceback": [
      "\u001b[0;31m---------------------------------------------------------------------------\u001b[0m",
      "\u001b[0;31mNameError\u001b[0m                                 Traceback (most recent call last)",
      "\u001b[0;32m<ipython-input-6-76cb0eb979be>\u001b[0m in \u001b[0;36m<module>\u001b[0;34m()\u001b[0m\n\u001b[1;32m      1\u001b[0m \u001b[0mcsv1\u001b[0m \u001b[0;34m=\u001b[0m \u001b[0mnp\u001b[0m\u001b[0;34m.\u001b[0m\u001b[0mgenfromtxt\u001b[0m\u001b[0;34m(\u001b[0m\u001b[0;34m\"test1.csv\"\u001b[0m\u001b[0;34m,\u001b[0m \u001b[0mdelimiter\u001b[0m\u001b[0;34m=\u001b[0m\u001b[0;34m\",\"\u001b[0m\u001b[0;34m)\u001b[0m\u001b[0;34m\u001b[0m\u001b[0m\n\u001b[0;32m----> 2\u001b[0;31m \u001b[0mx1\u001b[0m\u001b[0;34m=\u001b[0m\u001b[0mcsv1\u001b[0m\u001b[0;34m[\u001b[0m\u001b[0mhead\u001b[0m\u001b[0;34m:\u001b[0m\u001b[0;34m,\u001b[0m\u001b[0mchan\u001b[0m\u001b[0;34m:\u001b[0m\u001b[0;34m]\u001b[0m \u001b[0;31m#ignore header and channel info\u001b[0m\u001b[0;34m\u001b[0m\u001b[0m\n\u001b[0m\u001b[1;32m      3\u001b[0m \u001b[0mm\u001b[0m\u001b[0;34m=\u001b[0m\u001b[0mPCA\u001b[0m\u001b[0;34m(\u001b[0m\u001b[0mn_components\u001b[0m\u001b[0;34m=\u001b[0m\u001b[0;36m3\u001b[0m\u001b[0;34m,\u001b[0m \u001b[0mwhiten\u001b[0m\u001b[0;34m=\u001b[0m\u001b[0mTrue\u001b[0m\u001b[0;34m)\u001b[0m\u001b[0;34m\u001b[0m\u001b[0m\n\u001b[1;32m      4\u001b[0m \u001b[0mm\u001b[0m\u001b[0;34m.\u001b[0m\u001b[0mfit\u001b[0m\u001b[0;34m(\u001b[0m\u001b[0mx1\u001b[0m\u001b[0;34m)\u001b[0m\u001b[0;34m\u001b[0m\u001b[0m\n",
      "\u001b[0;31mNameError\u001b[0m: name 'head' is not defined"
     ]
    }
   ],
   "source": [
    "    csv1 = np.genfromtxt(\"test1.csv\", delimiter=\",\")\n",
    "    x1=csv1[head:,chan:] #ignore header and channel info\n",
    "    m=PCA(n_components=3, whiten=True)\n",
    "    m.fit(x1)"
   ]
  },
  {
   "cell_type": "code",
   "execution_count": null,
   "metadata": {
    "collapsed": false
   },
   "outputs": [
    {
     "name": "stderr",
     "output_type": "stream",
     "text": [
      "/Users/contextlab/Library/Enthought/Canopy_64bit/User/lib/python2.7/site-packages/sklearn/utils/validation.py:386: DeprecationWarning: Passing 1d arrays as data is deprecated in 0.17 and willraise ValueError in 0.19. Reshape your data either using X.reshape(-1, 1) if your data has a single feature or X.reshape(1, -1) if it contains a single sample.\n",
      "  DeprecationWarning)\n",
      "/Users/contextlab/Library/Enthought/Canopy_64bit/User/lib/python2.7/site-packages/sklearn/utils/validation.py:386: DeprecationWarning: Passing 1d arrays as data is deprecated in 0.17 and willraise ValueError in 0.19. Reshape your data either using X.reshape(-1, 1) if your data has a single feature or X.reshape(1, -1) if it contains a single sample.\n",
      "  DeprecationWarning)\n",
      "/Users/contextlab/Library/Enthought/Canopy_64bit/User/lib/python2.7/site-packages/sklearn/utils/validation.py:386: DeprecationWarning: Passing 1d arrays as data is deprecated in 0.17 and willraise ValueError in 0.19. Reshape your data either using X.reshape(-1, 1) if your data has a single feature or X.reshape(1, -1) if it contains a single sample.\n",
      "  DeprecationWarning)\n"
     ]
    }
   ],
   "source": [
    "stream(\"test1.csv\",\"test2.csv\", 5, 1)"
   ]
  },
  {
   "cell_type": "code",
   "execution_count": null,
   "metadata": {
    "collapsed": false
   },
   "outputs": [],
   "source": []
  },
  {
   "cell_type": "code",
   "execution_count": 10,
   "metadata": {
    "collapsed": false
   },
   "outputs": [],
   "source": []
  },
  {
   "cell_type": "code",
   "execution_count": null,
   "metadata": {
    "collapsed": true
   },
   "outputs": [],
   "source": []
  }
 ],
 "metadata": {
  "kernelspec": {
   "display_name": "Python 2",
   "language": "python",
   "name": "python2"
  },
  "language_info": {
   "codemirror_mode": {
    "name": "ipython",
    "version": 2
   },
   "file_extension": ".py",
   "mimetype": "text/x-python",
   "name": "python",
   "nbconvert_exporter": "python",
   "pygments_lexer": "ipython2",
   "version": "2.7.11"
  }
 },
 "nbformat": 4,
 "nbformat_minor": 0
}
