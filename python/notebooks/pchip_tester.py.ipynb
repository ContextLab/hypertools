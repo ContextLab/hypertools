{
 "cells": [
  {
   "cell_type": "code",
   "execution_count": 1,
   "metadata": {
    "collapsed": true
   },
   "outputs": [],
   "source": [
    "#testing grounds for trajectory plotter\n"
   ]
  },
  {
   "cell_type": "code",
   "execution_count": 11,
   "metadata": {
    "collapsed": false
   },
   "outputs": [],
   "source": [
    "import numpy as np\n",
    "from scipy.interpolate import PchipInterpolator as pchip\n",
    "\n",
    "#def chip_old(data):\n",
    "#    new=np.zeros(data.shape)\n",
    "#    #make this the size of INTERPOLATED data; 10n-1; len arange(0, n, 1)\n",
    "#    n=data.shape[0] \n",
    "#    for col in range(0, data.shape[1]):\n",
    "#        new[:,col]=pchip(np.arange(0, n, 1), data[:,col], np.arange(0, n, .1))\n"
   ]
  },
  {
   "cell_type": "code",
   "execution_count": 3,
   "metadata": {
    "collapsed": false
   },
   "outputs": [
    {
     "ename": "NameError",
     "evalue": "name 'z' is not defined",
     "output_type": "error",
     "traceback": [
      "\u001b[0;31m---------------------------------------------------------------------------\u001b[0m",
      "\u001b[0;31mNameError\u001b[0m                                 Traceback (most recent call last)",
      "\u001b[0;32m<ipython-input-3-7a0f039fe3b4>\u001b[0m in \u001b[0;36m<module>\u001b[0;34m()\u001b[0m\n\u001b[0;32m----> 1\u001b[0;31m \u001b[0mpchip\u001b[0m\u001b[0;34m(\u001b[0m\u001b[0mx\u001b[0m\u001b[0;34m=\u001b[0m\u001b[0mrange\u001b[0m\u001b[0;34m(\u001b[0m\u001b[0;36m10\u001b[0m\u001b[0;34m)\u001b[0m\u001b[0;34m,\u001b[0m\u001b[0my\u001b[0m\u001b[0;34m=\u001b[0m\u001b[0mrange\u001b[0m\u001b[0;34m(\u001b[0m\u001b[0;36m10\u001b[0m\u001b[0;34m)\u001b[0m\u001b[0;34m)\u001b[0m\u001b[0;34m,\u001b[0m \u001b[0mz\u001b[0m\u001b[0;34m\u001b[0m\u001b[0m\n\u001b[0m",
      "\u001b[0;31mNameError\u001b[0m: name 'z' is not defined"
     ]
    }
   ],
   "source": [
    "pchip(x=range(10),y=range(10)), z"
   ]
  },
  {
   "cell_type": "code",
   "execution_count": 4,
   "metadata": {
    "collapsed": false
   },
   "outputs": [],
   "source": [
    "import numpy as np\n",
    "from scipy.interpolate import PchipInterpolator as pchip\n",
    "\n",
    "\n",
    "def chip(data):\n",
    "    k=data.shape[0] #rows\n",
    "    j=data.shape[1] #cols\n",
    "    \n",
    "    new_row=(k-1)*10 \n",
    "    #if we want to fill in space BETWEEN our data points, \n",
    "    #there should be 10*(rows-1) new rows, in total\n",
    "    \n",
    "    x=np.arange(0, k, 1)\n",
    "    xx=np.arange(0, k, .1)\n",
    "    #pass xx into interpolator object\n",
    "    \n",
    "    new=np.zeros((new_row, j)) \n",
    "\n",
    "    for col in range(0, j):\n",
    "        #new[:,col]=pchip(x, data[:,col], xx)\n",
    "        new[:,col]=pchip(data[:,col],x)\n",
    "\n",
    "\n"
   ]
  },
  {
   "cell_type": "code",
   "execution_count": 47,
   "metadata": {
    "collapsed": false
   },
   "outputs": [
    {
     "name": "stdout",
     "output_type": "stream",
     "text": [
      "<scipy.interpolate._monotone.PchipInterpolator object at 0x10c4799b0>\n",
      "\n",
      "[  1  15 100]\n",
      "[0 1 2]\n",
      "[ 0.   0.1  0.2  0.3  0.4  0.5  0.6  0.7  0.8  0.9  1.   1.1  1.2  1.3  1.4\n",
      "  1.5  1.6  1.7  1.8  1.9]\n",
      "[  1.           1.17563636   1.68670707   2.50945455   3.62012121\n",
      "   4.99494949   6.61018182   8.44206061  10.46682828  12.66072727  15.\n",
      "  18.24277273  23.06117172  29.30243939  36.81381818  45.44255051\n",
      "  55.03587879  65.44104545  76.50529293  88.07586364]\n"
     ]
    }
   ],
   "source": [
    "import scipy \n",
    "\n",
    "z=np.array([1, 15, 100])\n",
    "#values to interpolate (data, data, data)\n",
    "x=np.arange(0, 3, 1)\n",
    "#number of values to interpolate over (0, vals, 1)\n",
    "xx=np.arange(0, 2, .1)\n",
    "#interpolation values within/between initial values (0, vals-1, interval)\n",
    "q=pchip(x, z)\n",
    "#print type(q)\n",
    "#print callable(q)\n",
    "#print locals()\n",
    "#yy=q(xx)\n",
    "\n",
    "print q\n",
    "print\n",
    "\n",
    "#print q(xx)\n",
    "\n",
    "print z\n",
    "print x\n",
    "print xx\n",
    "print q(xx)"
   ]
  },
  {
   "cell_type": "code",
   "execution_count": null,
   "metadata": {
    "collapsed": true
   },
   "outputs": [],
   "source": []
  },
  {
   "cell_type": "code",
   "execution_count": null,
   "metadata": {
    "collapsed": true
   },
   "outputs": [],
   "source": []
  },
  {
   "cell_type": "code",
   "execution_count": null,
   "metadata": {
    "collapsed": true
   },
   "outputs": [],
   "source": []
  }
 ],
 "metadata": {
  "celltoolbar": "Raw Cell Format",
  "kernelspec": {
   "display_name": "Python 2",
   "language": "python",
   "name": "python2"
  },
  "language_info": {
   "codemirror_mode": {
    "name": "ipython",
    "version": 2
   },
   "file_extension": ".py",
   "mimetype": "text/x-python",
   "name": "python",
   "nbconvert_exporter": "python",
   "pygments_lexer": "ipython2",
   "version": "2.7.11"
  }
 },
 "nbformat": 4,
 "nbformat_minor": 0
}
