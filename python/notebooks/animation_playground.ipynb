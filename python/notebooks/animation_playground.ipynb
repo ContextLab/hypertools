{
 "cells": [
  {
   "cell_type": "code",
   "execution_count": 1,
   "metadata": {
    "collapsed": true
   },
   "outputs": [],
   "source": [
    "#testing ground; animating plot"
   ]
  },
  {
   "cell_type": "code",
   "execution_count": 1,
   "metadata": {
    "collapsed": true
   },
   "outputs": [],
   "source": [
    "import numpy as np\n",
    "import matplotlib.pyplot as plt \n",
    "import matplotlib.animation as animation\n",
    "import numpy as np\n",
    "import time\n",
    "\n",
    "#from matplotlib import style\n",
    "#from scipy.interpolate import PchipInterpolator as pchip"
   ]
  },
  {
   "cell_type": "code",
   "execution_count": 2,
   "metadata": {
    "collapsed": false
   },
   "outputs": [],
   "source": [
    "import numpy as np\n",
    "import matplotlib.pyplot as plt \n",
    "import matplotlib.animation as animation\n",
    "def animate2(i):\n",
    "    ax1.clear()\n",
    "    ax1.plot(test_data[0:i, 0], test_data[0:i, 1])\n",
    "test_data=np.array([[3, 7],[1, 2],[8, 11],[5, -12],[20, 25], [-3, 30], [2,2], [17, 17]])\n",
    "fig = plt.figure()\n",
    "ax1 = fig.add_subplot(1, 1, 1)\n",
    "animation.FuncAnimation(fig, animate2, frames=range(1, len(test_data)), interval=500, repeat=True)\n",
    "\n",
    "plt.show()"
   ]
  },
  {
   "cell_type": "code",
   "execution_count": 13,
   "metadata": {
    "collapsed": false
   },
   "outputs": [],
   "source": [
    "test_data=np.array([[3, 7],[5, 19],[25, 130],[50, 57],[112, 112], [200, 300]])\n",
    "\n",
    "def animate2(i, data):\n",
    "\n",
    "    ax1.clear()\n",
    "    ax1.plot(data[0:len(i), 0], data[0:len(i), 1])\n",
    "\n",
    "# ---\n",
    "\n",
    "animation.FuncAnimation(fig, animate2, frames=range(1, len(test_data)), \n",
    "                         fargs=(test_data, ), interval=1000)\n",
    "\n",
    "plt.show()\n"
   ]
  },
  {
   "cell_type": "code",
   "execution_count": null,
   "metadata": {
    "collapsed": true
   },
   "outputs": [],
   "source": [
    "data=np.array([[3, 7],[1, 2],[8, 11],[5, -12],[20, 25], [-3, 30], [2,2], [17, 17]])\n",
    "data2=np.array([[3],[4],[5]])  \n",
    "data2b=([[3, 4, 5]])\n",
    "data3=[3, 4, 5]"
   ]
  },
  {
   "cell_type": "code",
   "execution_count": 28,
   "metadata": {
    "collapsed": false
   },
   "outputs": [
    {
     "name": "stdout",
     "output_type": "stream",
     "text": [
      "False\n",
      "False\n"
     ]
    }
   ],
   "source": [
    "data=np.array([[3, 7],[1, 2],[8, 11],[5, -12],[20, 25], [-3, 30], [2,2], [17, 17]])\n",
    "data2=np.array([[3],[4],[5]])  \n",
    "data2b=np.array([[3, 4, 5]])\n",
    "data3=[3, 4, 5]\n",
    "\n",
    "def is_list(x):\n",
    "    if type(x[0][0])==np.ndarray:\n",
    "        return True\n",
    "    elif type(x[0][0])==np.int64:\n",
    "        return False\n",
    "    \n",
    "print is_list(data2)\n",
    "print is_list(data2b)\n",
    "#print is_list(data3)"
   ]
  },
  {
   "cell_type": "code",
   "execution_count": null,
   "metadata": {
    "collapsed": true
   },
   "outputs": [],
   "source": []
  }
 ],
 "metadata": {
  "kernelspec": {
   "display_name": "Python 2",
   "language": "python",
   "name": "python2"
  },
  "language_info": {
   "codemirror_mode": {
    "name": "ipython",
    "version": 2
   },
   "file_extension": ".py",
   "mimetype": "text/x-python",
   "name": "python",
   "nbconvert_exporter": "python",
   "pygments_lexer": "ipython2",
   "version": "2.7.11"
  }
 },
 "nbformat": 4,
 "nbformat_minor": 0
}
