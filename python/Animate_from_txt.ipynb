{
 "cells": [
  {
   "cell_type": "code",
   "execution_count": 3,
   "metadata": {
    "collapsed": false
   },
   "outputs": [],
   "source": [
    "import matplotlib.pyplot as plt \n",
    "import matplotlib.animation as animation\n",
    "from matplotlib import style\n",
    "import numpy as np\n",
    "#import timestyle.use('fivethirtyeight')"
   ]
  },
  {
   "cell_type": "code",
   "execution_count": 4,
   "metadata": {
    "collapsed": false
   },
   "outputs": [],
   "source": [
    "fig=plt.figure()\n",
    "ax1=fig.add_subplot(1, 1, 1)\n",
    "\n",
    "def animate(i):\n",
    "\tgraph_data = open('samplefile.txt','r').read()\n",
    "\tlines=graph_data.split('\\n')\n",
    "\n",
    "\txs=[]\n",
    "\tys=[]\n",
    "\n",
    "\tfor line in lines:\n",
    "\t\tif len(line)>1:\n",
    "\t\t\tx,y=line.split(',')\n",
    "\t\t\txs.append(x)\n",
    "\t\t\tys.append(y)\n",
    "\tax1.clear\n",
    "\tax1.plot(xs, ys)\n",
    "ani=animation.FuncAnimation(fig, animate, interval=2000)\n",
    "\n",
    "#plt.show()\n",
    "\n",
    "#data=np.array([[3, 7],[1, 2],[8, 11],[5, -12],[20, 25], [-3, 30], [2,2], [17, 17])\n",
    "\n",
    "def animate2(i):\n",
    "\tfig=plt.figure()\n",
    "\tax1=fig.add_subplot(1, 1, 1)\n",
    "\n",
    "\tk=1\n",
    "\n",
    "\twhile k <=len(i):\n",
    "\t\tax1.clear\n",
    "\t\tax1.plot(i[0:k-1, 0], i[0:k-1, 1])\n",
    "\t\t#make sure to include previous points, append\n",
    "\t\t\n",
    "\t\tplt.show()\n",
    "\t\ttime.sleep(1)\n",
    "\t\tk=k+1\n"
   ]
  },
  {
   "cell_type": "code",
   "execution_count": null,
   "metadata": {
    "collapsed": true
   },
   "outputs": [],
   "source": []
  }
 ],
 "metadata": {
  "kernelspec": {
   "display_name": "Python 2",
   "language": "python",
   "name": "python2"
  },
  "language_info": {
   "codemirror_mode": {
    "name": "ipython",
    "version": 2
   },
   "file_extension": ".py",
   "mimetype": "text/x-python",
   "name": "python",
   "nbconvert_exporter": "python",
   "pygments_lexer": "ipython2",
   "version": "2.7.11"
  }
 },
 "nbformat": 4,
 "nbformat_minor": 0
}
