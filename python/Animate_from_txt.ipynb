{
 "cells": [
  {
   "cell_type": "code",
   "execution_count": 34,
   "metadata": {
    "collapsed": false
   },
   "outputs": [],
   "source": [
    "import matplotlib.pyplot as plt \n",
    "import matplotlib.animation as animation\n",
    "from matplotlib import style\n",
    "import numpy as np\n",
    "import time\n",
    "from mpl_toolkits.mplot3d import Axes3D\n",
    "\n",
    "import scipy.io as sio\n",
    "import numpy as np\n",
    "import matplotlib.pyplot as plt \n",
    "import matplotlib.animation as animation\n",
    "import scipy\n",
    "from scipy.interpolate import PchipInterpolator as pchip\n",
    "import PCA as PCA\n",
    "from mpl_toolkits.mplot3d import Axes3D\n",
    "\n",
    "import hyperalign as hyp"
   ]
  },
  {
   "cell_type": "code",
   "execution_count": 37,
   "metadata": {
    "collapsed": false
   },
   "outputs": [],
   "source": [
    "\n",
    "#style.use('fivethirtyeight')\n",
    "fig=plt.figure()\n",
    "ax1=fig.add_subplot(1,1,1)\n",
    "\n",
    "def animate(i):\n",
    "    graph_data = open('samplefile.txt','r').read()\n",
    "    lines=graph_data.split('\\n')\n",
    "\n",
    "    xs=[]\n",
    "    ys=[]\n",
    "    zs=[]\n",
    "\n",
    "    for line in lines:\n",
    "        if len(line)>1:\n",
    "            x,y=line.split(',')\n",
    "            xs.append(x)\n",
    "            ys.append(y)\n",
    "            #xs.append(z)\n",
    "    ax1.clear\n",
    "    ax1.plot(xs, ys)#, zs)\n",
    "    \n",
    "ani=animation.FuncAnimation(fig, animate, interval=2000)\n",
    "\n",
    "plt.show()\n",
    "\n",
    "    #data=np.array([[3, 7],[1, 2],[8, 11],[5, -12],[20, 25], [-3, 30], [2,2], [17, 17])\n",
    "\n",
    "#def animate2(i):\n",
    " #   fig=plt.figure()\n",
    "#    ax1=fig.add_subplot(1, 1, 1)\n",
    "\n",
    "#    k=1\n",
    "\n",
    "#    while k <=len(i):\n",
    "#        ax1.clear\n",
    "#        ax1.plot(i[0:k-1, 0], i[0:k-1, 1])\n",
    "        #make sure to include previous points, append\n",
    "\n",
    "#        plt.show()\n",
    "#        time.sleep(1)\n",
    "#        k=k+1\n"
   ]
  },
  {
   "cell_type": "code",
   "execution_count": null,
   "metadata": {
    "collapsed": true
   },
   "outputs": [],
   "source": []
  },
  {
   "cell_type": "code",
   "execution_count": null,
   "metadata": {
    "collapsed": true
   },
   "outputs": [],
   "source": []
  }
 ],
 "metadata": {
  "kernelspec": {
   "display_name": "Python 2",
   "language": "python",
   "name": "python2"
  },
  "language_info": {
   "codemirror_mode": {
    "name": "ipython",
    "version": 2
   },
   "file_extension": ".py",
   "mimetype": "text/x-python",
   "name": "python",
   "nbconvert_exporter": "python",
   "pygments_lexer": "ipython2",
   "version": "2.7.11"
  }
 },
 "nbformat": 4,
 "nbformat_minor": 0
}
