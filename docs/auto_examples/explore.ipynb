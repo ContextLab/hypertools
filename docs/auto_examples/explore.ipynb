{
  "cells": [
    {
      "cell_type": "code",
      "execution_count": null,
      "metadata": {
        "collapsed": false
      },
      "outputs": [],
      "source": [
        "%matplotlib inline"
      ]
    },
    {
      "cell_type": "markdown",
      "metadata": {},
      "source": [
        "\n=============================\nExplore mode!\n=============================\n\nExplore mode is an experimental feature that allows you to (not surprisingly)\nexplore the points in your dataset.  When you hover over the points, a label\nwill pop up that will help you identify the datapoint.  You can customize the\nlabels by passing a list of labels to the `label(s)` kwarg. Alternatively, if\nyou don't pass a list of labels, the labels will be the index of the datapoint,\nalong with the PCA coordinate.\n"
      ]
    },
    {
      "cell_type": "code",
      "execution_count": null,
      "metadata": {
        "collapsed": false
      },
      "outputs": [],
      "source": [
        "# Code source: Andrew Heusser\n# License: MIT\n\n# import\nimport hypertools as hyp\n\n# load example data\ngeo = hyp.load('weights_sample')\n\n# plot\ngeo.plot(fmt='.', explore=True)"
      ]
    }
  ],
  "metadata": {
    "kernelspec": {
      "display_name": "Python 3",
      "language": "python",
      "name": "python3"
    },
    "language_info": {
      "codemirror_mode": {
        "name": "ipython",
        "version": 3
      },
      "file_extension": ".py",
      "mimetype": "text/x-python",
      "name": "python",
      "nbconvert_exporter": "python",
      "pygments_lexer": "ipython3",
      "version": "3.7.3"
    }
  },
  "nbformat": 4,
  "nbformat_minor": 0
}