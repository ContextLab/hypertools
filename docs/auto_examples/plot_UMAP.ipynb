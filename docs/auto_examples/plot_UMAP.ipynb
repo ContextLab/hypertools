{
  "cells": [
    {
      "cell_type": "markdown",
      "metadata": {},
      "source": [
        "\n# Visualizing the digits dataset using UMAP\n\nThis example loads in some data from the scikit-learn digits dataset and plots\nit using UMAP.\n"
      ]
    },
    {
      "cell_type": "code",
      "execution_count": null,
      "metadata": {
        "collapsed": false
      },
      "outputs": [],
      "source": [
        "# Code source: Andrew Heusser and Leland McInnes\n# License: MIT\n\nfrom sklearn import datasets\nimport hypertools as hyp\n\ndigits = datasets.load_digits(n_class=6)\ndata = digits.data\nhue = digits.target.astype('str')\n\nhyp.plot(data, '.', reduce='UMAP', hue=hue, ndims=2)"
      ]
    }
  ],
  "metadata": {
    "kernelspec": {
      "display_name": "Python 3",
      "language": "python",
      "name": "python3"
    },
    "language_info": {
      "codemirror_mode": {
        "name": "ipython",
        "version": 3
      },
      "file_extension": ".py",
      "mimetype": "text/x-python",
      "name": "python",
      "nbconvert_exporter": "python",
      "pygments_lexer": "ipython3",
      "version": "3.12.4"
    }
  },
  "nbformat": 4,
  "nbformat_minor": 0
}